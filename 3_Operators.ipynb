{
  "nbformat": 4,
  "nbformat_minor": 0,
  "metadata": {
    "colab": {
      "provenance": [],
      "authorship_tag": "ABX9TyN+bxvhbn8eRjmWdsF/9gU/",
      "include_colab_link": true
    },
    "kernelspec": {
      "name": "python3",
      "display_name": "Python 3"
    },
    "language_info": {
      "name": "python"
    }
  },
  "cells": [
    {
      "cell_type": "markdown",
      "metadata": {
        "id": "view-in-github",
        "colab_type": "text"
      },
      "source": [
        "<a href=\"https://colab.research.google.com/github/JayPat2003/Python-from-Scratch/blob/main/3_Operators.ipynb\" target=\"_parent\"><img src=\"https://colab.research.google.com/assets/colab-badge.svg\" alt=\"Open In Colab\"/></a>"
      ]
    },
    {
      "cell_type": "markdown",
      "source": [
        "# Type Casting"
      ],
      "metadata": {
        "id": "0NvBfEX4BxdT"
      }
    },
    {
      "cell_type": "markdown",
      "source": [
        "Type casting is a method to convert the python variable datatype into a certain data type inorder to perdorm the operations."
      ],
      "metadata": {
        "id": "5uiUnTTrB44i"
      }
    },
    {
      "cell_type": "markdown",
      "source": [
        "There are 2 types of Type Casting:\n",
        "\n",
        "\n",
        "1.  **Implicit Type Conversion**: In this method, Python converts the datatype into another datatype automatically.Here, user is not involved in the process.\n",
        "\n",
        "\n",
        "2.  **Explicit Type Conversion**: Python needs user involvment to convert the datatype of variable into the desired datatype.\n",
        "\n",
        "\n",
        "\n"
      ],
      "metadata": {
        "id": "K7CPqcdoChD4"
      }
    },
    {
      "cell_type": "code",
      "execution_count": null,
      "metadata": {
        "colab": {
          "base_uri": "https://localhost:8080/"
        },
        "id": "tSZp2Ev0SJxa",
        "outputId": "38a6d259-21d8-41a1-85a2-264ccc350747"
      },
      "outputs": [
        {
          "output_type": "stream",
          "name": "stdout",
          "text": [
            "<class 'int'>\n",
            "<class 'float'>\n",
            "14.5\n",
            "<class 'float'>\n"
          ]
        }
      ],
      "source": [
        "#implicit type conversion\n",
        "a = 7\n",
        "print(type(a))\n",
        "b = 7.5\n",
        "print(type(b))\n",
        "c = a + b\n",
        "print(c)\n",
        "print(type(c))"
      ]
    },
    {
      "cell_type": "code",
      "source": [
        "#explicit type conversion\n",
        "a = 7\n",
        "b = 3.5\n",
        "c = int(a+b)\n",
        "print(type(a))\n",
        "print(type(b))\n",
        "print(c)\n",
        "print(type(c))"
      ],
      "metadata": {
        "colab": {
          "base_uri": "https://localhost:8080/"
        },
        "id": "kiirNqdeEKUI",
        "outputId": "e26c9a18-ba95-4485-895f-da775f6498eb"
      },
      "execution_count": null,
      "outputs": [
        {
          "output_type": "stream",
          "name": "stdout",
          "text": [
            "<class 'int'>\n",
            "<class 'float'>\n",
            "10\n",
            "<class 'int'>\n"
          ]
        }
      ]
    },
    {
      "cell_type": "markdown",
      "source": [
        "**int()** : Take float or string as 'argument' and returns int.\n",
        "\n",
        "**float()** : Take int or string as argument and returns float.\n",
        "\n",
        "**str()** : Takes float or int as argument and returns str."
      ],
      "metadata": {
        "id": "uSngwiHQFKYH"
      }
    },
    {
      "cell_type": "code",
      "source": [
        "# int()\n",
        "\n",
        "a = 8.5\n",
        "i1 = int(a)\n",
        "print(i1)\n",
        "print(type(i1))\n",
        "\n",
        "b = \"1.5\"\n",
        "# Convert to float first, then to int\n",
        "f1 = float(b)\n",
        "i2 = int(f1)\n",
        "print(i2)\n",
        "print(type(i2)) # --- this will throw an error\n",
        "\n",
        "c = \"8\"\n",
        "i3 = int(c)\n",
        "print(i3)\n",
        "print(type(i3))\n",
        "\n",
        "d = \"abc\"\n",
        "# Handle the potential error when converting \"abc\" to an integer\n",
        "try:\n",
        "    i4 = int(d)\n",
        "    print(i4)\n",
        "    print(type(i4))\n",
        "except ValueError:\n",
        "    print(\"Cannot convert 'abc' to an integer.\")"
      ],
      "metadata": {
        "colab": {
          "base_uri": "https://localhost:8080/"
        },
        "id": "MWwFVz_KGUdU",
        "outputId": "1129708e-e430-47bc-9ad2-96280862495e"
      },
      "execution_count": null,
      "outputs": [
        {
          "output_type": "stream",
          "name": "stdout",
          "text": [
            "8\n",
            "<class 'int'>\n",
            "1\n",
            "<class 'int'>\n",
            "8\n",
            "<class 'int'>\n",
            "Cannot convert 'abc' to an integer.\n"
          ]
        }
      ]
    },
    {
      "cell_type": "code",
      "source": [
        "# float()\n",
        "\n",
        "a = 8.5\n",
        "f1 = float(a)\n",
        "print(f1)\n",
        "print(type(f1))\n",
        "\n",
        "b = \"1.5\"\n",
        "f2 = float(b)\n",
        "print(f2)\n",
        "print(type(f2)) # --- this will not throw an error because of float()\n",
        "\n",
        "c = \"8\"\n",
        "f3 = float(c)\n",
        "print(f3)\n",
        "print(type(f3))\n",
        "\n",
        "# d = \"abc\"\n",
        "# f4 = float(d)\n",
        "# print(f4)\n",
        "# print(type(f4))"
      ],
      "metadata": {
        "colab": {
          "base_uri": "https://localhost:8080/"
        },
        "id": "B5nrBF36Esx8",
        "outputId": "acdd0759-a318-4e06-d716-572cb12d3839"
      },
      "execution_count": null,
      "outputs": [
        {
          "output_type": "stream",
          "name": "stdout",
          "text": [
            "8.5\n",
            "<class 'float'>\n",
            "1.5\n",
            "<class 'float'>\n",
            "8.0\n",
            "<class 'float'>\n"
          ]
        }
      ]
    },
    {
      "cell_type": "code",
      "source": [
        "# str()\n",
        "\n",
        "a = 8.5\n",
        "print(type(a))\n",
        "s1 = str(a)\n",
        "print(s1)\n",
        "print(type(s1))\n",
        "\n",
        "b = \"1.5\"\n",
        "print(type(b))\n",
        "s2 = str(b)\n",
        "print(s2)\n",
        "print(type(s2)) # --- this will not throw an error"
      ],
      "metadata": {
        "colab": {
          "base_uri": "https://localhost:8080/"
        },
        "id": "HhW_EK8IIh7f",
        "outputId": "b3c82e19-c832-4c3c-d9b9-885a3bf48fd1"
      },
      "execution_count": null,
      "outputs": [
        {
          "output_type": "stream",
          "name": "stdout",
          "text": [
            "<class 'float'>\n",
            "8.5\n",
            "<class 'str'>\n",
            "<class 'str'>\n",
            "1.5\n",
            "<class 'str'>\n"
          ]
        }
      ]
    },
    {
      "cell_type": "markdown",
      "source": [
        "# Operators"
      ],
      "metadata": {
        "id": "44UlT8q9JMXD"
      }
    },
    {
      "cell_type": "markdown",
      "source": [
        "Symbol that performs specific operation between 2 operands (variable)."
      ],
      "metadata": {
        "id": "DUvJwbURJSHx"
      }
    },
    {
      "cell_type": "markdown",
      "source": [
        "## Supported Operators in Python:\n",
        "\n",
        "\n",
        "1. Arithmetic operators\n",
        "2. Comparison operators\n",
        "3. Assignment operators\n",
        "4. Logical Operators\n",
        "5. Bitwise Operators\n",
        "6. Membership Operators\n",
        "7. Identity Operators\n",
        "\n",
        "\n"
      ],
      "metadata": {
        "id": "b5ATKJxIJhA6"
      }
    },
    {
      "cell_type": "markdown",
      "source": [
        "## Arithmetic Operators\n",
        "\n",
        "(+) : addition\n",
        "\n",
        "(-) : subtraction\n",
        "\n",
        "(*) : multiplication\n",
        "\n",
        "(/) : division\n",
        "\n",
        "(%) : reminder (modulus)\n",
        "\n",
        "(**) : Exponent\n",
        "\n",
        "(//) : Floor Division"
      ],
      "metadata": {
        "id": "w_LLoKRPKXGQ"
      }
    },
    {
      "cell_type": "markdown",
      "source": [
        "The order of evaluation are as follows:\n",
        "\n",
        "\n",
        "1.   Parantheses ()\n",
        "2.   Exponentiation\n",
        "3.   Multiplication, division, modulus and floor divisions at equal priority\n",
        "4.   Addition and subtraction afterwards\n",
        "5.   Assignment operation is performed.\n",
        "\n"
      ],
      "metadata": {
        "id": "kchulR7c2A-W"
      }
    },
    {
      "cell_type": "code",
      "source": [
        "a = 2\n",
        "b = 2\n",
        "c = 3\n",
        "x = 1\n",
        "y = 2\n",
        "z = 3\n",
        "\n",
        "d = (x+y)*z**a//b+c\n",
        "print(d)"
      ],
      "metadata": {
        "colab": {
          "base_uri": "https://localhost:8080/"
        },
        "id": "41fJLGHl2oFZ",
        "outputId": "da2bbf1d-e575-4615-e506-ea6aa5a1a0dc"
      },
      "execution_count": null,
      "outputs": [
        {
          "output_type": "stream",
          "name": "stdout",
          "text": [
            "16\n"
          ]
        }
      ]
    },
    {
      "cell_type": "markdown",
      "source": [
        "## Relational Operators\n",
        "\n",
        "Compare the two operands and returns a true or false.\n",
        "\n",
        "\n",
        "*   (==) : Check if a & b are equal.\n",
        "*   (!=) : Check if a & b are not equal.\n",
        "*   (<=) : Check if a is less than or equal to b.\n",
        "*   (>=) : Check if a is greater or equal to b.\n",
        "*   (>) : Check if a is greater than b.\n",
        "*   (<) : Check if a is less than b.\n",
        "\n"
      ],
      "metadata": {
        "id": "i-VzqylmLKOd"
      }
    },
    {
      "cell_type": "code",
      "source": [
        "a = 1\n",
        "b = 2\n",
        "if (a>b):\n",
        "  print('Yes')\n",
        "else:\n",
        "  print('No')"
      ],
      "metadata": {
        "id": "ko1kszLMMcpt",
        "colab": {
          "base_uri": "https://localhost:8080/"
        },
        "outputId": "d435d7b2-d491-40d8-960c-7293ee463dc9"
      },
      "execution_count": null,
      "outputs": [
        {
          "output_type": "stream",
          "name": "stdout",
          "text": [
            "No\n"
          ]
        }
      ]
    },
    {
      "cell_type": "markdown",
      "source": [
        "Relational operators can be chained. It means, a single expression can hold more than one relational operator."
      ],
      "metadata": {
        "id": "omN20rVg3jUD"
      }
    },
    {
      "cell_type": "code",
      "source": [
        "x = 15\n",
        "print(10<x<20)"
      ],
      "metadata": {
        "colab": {
          "base_uri": "https://localhost:8080/"
        },
        "id": "JWvMWjPf3ZwM",
        "outputId": "d5c62582-9c54-4602-ac49-03dca018de2b"
      },
      "execution_count": null,
      "outputs": [
        {
          "output_type": "stream",
          "name": "stdout",
          "text": [
            "True\n"
          ]
        }
      ]
    },
    {
      "cell_type": "code",
      "source": [
        "print(10 >= x > 20)"
      ],
      "metadata": {
        "colab": {
          "base_uri": "https://localhost:8080/"
        },
        "id": "sEF_r9QF3vH_",
        "outputId": "31aac1ce-bf80-4310-c85c-f3010c29f90e"
      },
      "execution_count": null,
      "outputs": [
        {
          "output_type": "stream",
          "name": "stdout",
          "text": [
            "False\n"
          ]
        }
      ]
    },
    {
      "cell_type": "code",
      "source": [
        "print(10<x>20)"
      ],
      "metadata": {
        "colab": {
          "base_uri": "https://localhost:8080/"
        },
        "id": "JTKt8ykq33Zc",
        "outputId": "321c68b2-3d67-4441-d0b0-0d4162d6fa00"
      },
      "execution_count": null,
      "outputs": [
        {
          "output_type": "stream",
          "name": "stdout",
          "text": [
            "False\n"
          ]
        }
      ]
    },
    {
      "cell_type": "markdown",
      "source": [
        "## Assignment Operators\n",
        "\n",
        "\n",
        "*   These operators are used to store the right side value into a left side variable.\n",
        "*  Operations like addition, subtraction, multiplication and so on occur on the right hand side of the equation and stored its result in the variable.\n",
        "\n"
      ],
      "metadata": {
        "id": "oBuftP7M4CBa"
      }
    },
    {
      "cell_type": "code",
      "source": [
        "x = 20\n",
        "y = 10\n",
        "z = 5"
      ],
      "metadata": {
        "id": "iicMAU2836oK"
      },
      "execution_count": null,
      "outputs": []
    },
    {
      "cell_type": "code",
      "source": [
        "z = x+y\n",
        "print(z)"
      ],
      "metadata": {
        "colab": {
          "base_uri": "https://localhost:8080/"
        },
        "id": "S_oi7uDu4rX_",
        "outputId": "f26eedc9-a794-4d2c-8856-3ec90b9839c8"
      },
      "execution_count": null,
      "outputs": [
        {
          "output_type": "stream",
          "name": "stdout",
          "text": [
            "30\n"
          ]
        }
      ]
    },
    {
      "cell_type": "code",
      "source": [
        "z += x\n",
        "print(z)"
      ],
      "metadata": {
        "colab": {
          "base_uri": "https://localhost:8080/"
        },
        "id": "Q9orYg3-4uZA",
        "outputId": "3c04315e-d8a3-455e-ff83-54d5656af19f"
      },
      "execution_count": null,
      "outputs": [
        {
          "output_type": "stream",
          "name": "stdout",
          "text": [
            "50\n"
          ]
        }
      ]
    },
    {
      "cell_type": "code",
      "source": [
        "z -= x\n",
        "print(z)"
      ],
      "metadata": {
        "colab": {
          "base_uri": "https://localhost:8080/"
        },
        "id": "LD_BwRC04xBJ",
        "outputId": "bfeb42f8-6c08-4020-e2c4-309deb0f93a4"
      },
      "execution_count": null,
      "outputs": [
        {
          "output_type": "stream",
          "name": "stdout",
          "text": [
            "30\n"
          ]
        }
      ]
    },
    {
      "cell_type": "code",
      "source": [
        "z *= x\n",
        "print(z)"
      ],
      "metadata": {
        "colab": {
          "base_uri": "https://localhost:8080/"
        },
        "id": "qrqDRXgT5Qdh",
        "outputId": "8ac7ed39-fec0-4fda-8323-42516027d614"
      },
      "execution_count": null,
      "outputs": [
        {
          "output_type": "stream",
          "name": "stdout",
          "text": [
            "600\n"
          ]
        }
      ]
    },
    {
      "cell_type": "code",
      "source": [
        "z /= x\n",
        "print(z)"
      ],
      "metadata": {
        "colab": {
          "base_uri": "https://localhost:8080/"
        },
        "id": "xgqpSpE85T8a",
        "outputId": "fd25fbfb-3641-40ce-d20e-7a924fbddba9"
      },
      "execution_count": null,
      "outputs": [
        {
          "output_type": "stream",
          "name": "stdout",
          "text": [
            "30.0\n"
          ]
        }
      ]
    },
    {
      "cell_type": "code",
      "source": [
        "z %= x\n",
        "print(z)"
      ],
      "metadata": {
        "colab": {
          "base_uri": "https://localhost:8080/"
        },
        "id": "EJZlhEa25XRS",
        "outputId": "4028c8d9-64b5-4a3b-c405-3ba4735f1660"
      },
      "execution_count": null,
      "outputs": [
        {
          "output_type": "stream",
          "name": "stdout",
          "text": [
            "10.0\n"
          ]
        }
      ]
    },
    {
      "cell_type": "code",
      "source": [
        "z **= y\n",
        "print(z)"
      ],
      "metadata": {
        "colab": {
          "base_uri": "https://localhost:8080/"
        },
        "id": "wRiJG6Ju5f0w",
        "outputId": "d6d82749-78f2-4ac2-f31c-4bcc45747a11"
      },
      "execution_count": null,
      "outputs": [
        {
          "output_type": "stream",
          "name": "stdout",
          "text": [
            "1e+190\n"
          ]
        }
      ]
    },
    {
      "cell_type": "code",
      "source": [
        "z //= y\n",
        "print(z)"
      ],
      "metadata": {
        "colab": {
          "base_uri": "https://localhost:8080/"
        },
        "id": "B6Yk_G9_5hyH",
        "outputId": "8b5978c9-36df-4dac-c426-e3fdecf70f5f"
      },
      "execution_count": null,
      "outputs": [
        {
          "output_type": "stream",
          "name": "stdout",
          "text": [
            "1e+189\n"
          ]
        }
      ]
    },
    {
      "cell_type": "markdown",
      "source": [
        "## Unary Minus Operator\n",
        "\n",
        "\n",
        "\n",
        "*   It is denoted by the symbol minus (-).\n",
        "*   When this operator is used before a variable, it svalue is negated. That means if the variable value is positive, it will be converted into negative and vice-versa.\n",
        "\n"
      ],
      "metadata": {
        "id": "Ypgd95i9K41k"
      }
    },
    {
      "cell_type": "code",
      "source": [
        "n = 14\n",
        "print(-n)"
      ],
      "metadata": {
        "colab": {
          "base_uri": "https://localhost:8080/"
        },
        "id": "ckeJfvZP5kCz",
        "outputId": "0eff7b12-c92e-4c18-e422-1eaac3f92a1d"
      },
      "execution_count": null,
      "outputs": [
        {
          "output_type": "stream",
          "name": "stdout",
          "text": [
            "-14\n"
          ]
        }
      ]
    },
    {
      "cell_type": "code",
      "source": [
        "num = -29\n",
        "num = -num\n",
        "print(num)"
      ],
      "metadata": {
        "colab": {
          "base_uri": "https://localhost:8080/"
        },
        "id": "v9yrvmNWPj0G",
        "outputId": "9dc3547e-f835-4980-f6cd-50bcdc24595a"
      },
      "execution_count": null,
      "outputs": [
        {
          "output_type": "stream",
          "name": "stdout",
          "text": [
            "29\n"
          ]
        }
      ]
    },
    {
      "cell_type": "markdown",
      "source": [
        "## Logical Operators\n",
        "\n",
        "\n",
        "Used to construct compound conditions. A compound condition is a combination of more than one simple condition.\n",
        "\n"
      ],
      "metadata": {
        "id": "FflnoIr-Ps5H"
      }
    },
    {
      "cell_type": "markdown",
      "source": [
        "In AND operation, when both the statements are true then only the resultant will be true or else it would be false.\n",
        "\n",
        "In OR operation, if either of the statements is true then the resultant will be true."
      ],
      "metadata": {
        "id": "z78AXocwQgvu"
      }
    },
    {
      "cell_type": "code",
      "source": [
        "x = 100\n",
        "y = 200\n",
        "print(x and y)\n",
        "\n",
        "print(x or y)\n",
        "\n",
        "print(not x)"
      ],
      "metadata": {
        "colab": {
          "base_uri": "https://localhost:8080/"
        },
        "id": "Zq-DwLsmPoT7",
        "outputId": "215397b6-56d0-463e-ca48-407f530de08d"
      },
      "execution_count": null,
      "outputs": [
        {
          "output_type": "stream",
          "name": "stdout",
          "text": [
            "200\n",
            "100\n",
            "False\n"
          ]
        }
      ]
    },
    {
      "cell_type": "code",
      "source": [
        "x = 1\n",
        "y = 2\n",
        "z = 3\n",
        "\n",
        "if (x < y and y < z):\n",
        "  print('Yes')\n",
        "else:\n",
        "  print('No')"
      ],
      "metadata": {
        "colab": {
          "base_uri": "https://localhost:8080/"
        },
        "id": "6SJXtpnuQQIl",
        "outputId": "05ab8e02-e0c4-453e-aa83-2448241341cb"
      },
      "execution_count": null,
      "outputs": [
        {
          "output_type": "stream",
          "name": "stdout",
          "text": [
            "Yes\n"
          ]
        }
      ]
    },
    {
      "cell_type": "markdown",
      "source": [
        "## Boolean Operators\n",
        "\n",
        "There are 2 types of bool type literals:\n",
        "\n",
        "\n",
        "*   True\n",
        "*   False\n",
        "\n"
      ],
      "metadata": {
        "id": "L98a_90CQy4x"
      }
    },
    {
      "cell_type": "code",
      "source": [
        "a = True\n",
        "b = False"
      ],
      "metadata": {
        "id": "6jzRH0rzQZre"
      },
      "execution_count": null,
      "outputs": []
    },
    {
      "cell_type": "code",
      "source": [
        "print(a and a)"
      ],
      "metadata": {
        "colab": {
          "base_uri": "https://localhost:8080/"
        },
        "id": "3yxQmd42c3Uz",
        "outputId": "60184a56-56c3-410e-d3ca-747a126963b0"
      },
      "execution_count": null,
      "outputs": [
        {
          "output_type": "stream",
          "name": "stdout",
          "text": [
            "True\n"
          ]
        }
      ]
    },
    {
      "cell_type": "code",
      "source": [
        "print(a and b)"
      ],
      "metadata": {
        "colab": {
          "base_uri": "https://localhost:8080/"
        },
        "id": "8shZHxRdc4fp",
        "outputId": "b8affb1b-f0c7-4823-cb51-1f246548711d"
      },
      "execution_count": null,
      "outputs": [
        {
          "output_type": "stream",
          "name": "stdout",
          "text": [
            "False\n"
          ]
        }
      ]
    },
    {
      "cell_type": "code",
      "source": [
        "print(b and b)"
      ],
      "metadata": {
        "colab": {
          "base_uri": "https://localhost:8080/"
        },
        "id": "CRuqxz46dEly",
        "outputId": "497e3fc5-bb10-4af3-e893-501763e23c8a"
      },
      "execution_count": null,
      "outputs": [
        {
          "output_type": "stream",
          "name": "stdout",
          "text": [
            "False\n"
          ]
        }
      ]
    },
    {
      "cell_type": "code",
      "source": [
        "print(a or a)"
      ],
      "metadata": {
        "colab": {
          "base_uri": "https://localhost:8080/"
        },
        "id": "2WkHDD9Vc6db",
        "outputId": "87e0b637-0658-40e2-f1c1-19341cd7ac4f"
      },
      "execution_count": null,
      "outputs": [
        {
          "output_type": "stream",
          "name": "stdout",
          "text": [
            "True\n"
          ]
        }
      ]
    },
    {
      "cell_type": "code",
      "source": [
        "print(a or b)"
      ],
      "metadata": {
        "colab": {
          "base_uri": "https://localhost:8080/"
        },
        "id": "fmS4F0izc-SI",
        "outputId": "72e8bf62-ba7a-43a9-d90f-18703ffd5b6e"
      },
      "execution_count": null,
      "outputs": [
        {
          "output_type": "stream",
          "name": "stdout",
          "text": [
            "True\n"
          ]
        }
      ]
    },
    {
      "cell_type": "code",
      "source": [
        "print(b or b)"
      ],
      "metadata": {
        "colab": {
          "base_uri": "https://localhost:8080/"
        },
        "id": "waHoDnSic_wO",
        "outputId": "75c4099a-4ac2-4eaf-9a71-2b56192de132"
      },
      "execution_count": null,
      "outputs": [
        {
          "output_type": "stream",
          "name": "stdout",
          "text": [
            "False\n"
          ]
        }
      ]
    },
    {
      "cell_type": "code",
      "source": [
        "print(not a)"
      ],
      "metadata": {
        "colab": {
          "base_uri": "https://localhost:8080/"
        },
        "id": "NUUpPJw_dDFT",
        "outputId": "0dd4060f-a6c0-41e9-8a1c-1356bbaba9ce"
      },
      "execution_count": null,
      "outputs": [
        {
          "output_type": "stream",
          "name": "stdout",
          "text": [
            "False\n"
          ]
        }
      ]
    },
    {
      "cell_type": "code",
      "source": [
        "print(not b)"
      ],
      "metadata": {
        "colab": {
          "base_uri": "https://localhost:8080/"
        },
        "id": "BHFdkn3bdIDF",
        "outputId": "24f661bc-b7fa-4253-c42d-815e8e93c48b"
      },
      "execution_count": null,
      "outputs": [
        {
          "output_type": "stream",
          "name": "stdout",
          "text": [
            "True\n"
          ]
        }
      ]
    },
    {
      "cell_type": "markdown",
      "source": [
        "## Bitwise Operators\n",
        "\n",
        "\n",
        "\n",
        "*  These opertors act on individual bits (0 and 1) of the operands.\n",
        "*  When we ise these operators on intergers, these numbers are converted into bits (binary number system) and then bitwise operators act upon those bits.\n",
        "*   The results given by these operators are always in the form of integers.\n",
        "\n"
      ],
      "metadata": {
        "id": "VSnJf2X5dJ_d"
      }
    },
    {
      "cell_type": "markdown",
      "source": [
        "There are 6 types of bitwise operators:\n",
        "\n",
        "\n",
        "*   Bitwise Complement operator (~)\n",
        "*   Bitwise AND operator (&)\n",
        "*   Bitwise OR operator (|)\n",
        "*   Bitwise XOR operator (^)\n",
        "*   Bitwise Left Shift operator (<<)\n",
        "*   Bitwise Right Shift operator (>>)\n",
        "\n"
      ],
      "metadata": {
        "id": "MueLNh8Dd8XB"
      }
    },
    {
      "cell_type": "code",
      "source": [
        "x = 10 # integer\n",
        "print(~x)"
      ],
      "metadata": {
        "colab": {
          "base_uri": "https://localhost:8080/"
        },
        "id": "SC2Z39BodI4i",
        "outputId": "7f830ee2-3928-45aa-f3d0-d15f6b778144"
      },
      "execution_count": null,
      "outputs": [
        {
          "output_type": "stream",
          "name": "stdout",
          "text": [
            "-11\n"
          ]
        }
      ]
    },
    {
      "cell_type": "code",
      "source": [
        "x = 10 #integer\n",
        "y = 11 #integer\n",
        "\n",
        "print(x & y) # and operation"
      ],
      "metadata": {
        "colab": {
          "base_uri": "https://localhost:8080/"
        },
        "id": "IAsThmBJetzZ",
        "outputId": "934f0b66-a5b4-43af-ff81-b42a8b16d34a"
      },
      "execution_count": null,
      "outputs": [
        {
          "output_type": "stream",
          "name": "stdout",
          "text": [
            "10\n"
          ]
        }
      ]
    },
    {
      "cell_type": "code",
      "source": [
        "print(x | y) # or operation"
      ],
      "metadata": {
        "colab": {
          "base_uri": "https://localhost:8080/"
        },
        "id": "jLNcdwRVe5X_",
        "outputId": "56a1af92-7c9d-41dc-c388-3dac8bba5606"
      },
      "execution_count": null,
      "outputs": [
        {
          "output_type": "stream",
          "name": "stdout",
          "text": [
            "11\n"
          ]
        }
      ]
    },
    {
      "cell_type": "code",
      "source": [
        "print(x ^ y) # xor operation"
      ],
      "metadata": {
        "colab": {
          "base_uri": "https://localhost:8080/"
        },
        "id": "NVXeB3WMe-Ur",
        "outputId": "c0b2c18e-90b8-4259-bf64-49673f34ea72"
      },
      "execution_count": null,
      "outputs": [
        {
          "output_type": "stream",
          "name": "stdout",
          "text": [
            "1\n"
          ]
        }
      ]
    },
    {
      "cell_type": "code",
      "source": [
        "print(x << 2) # left shift"
      ],
      "metadata": {
        "colab": {
          "base_uri": "https://localhost:8080/"
        },
        "id": "0lB1zAkOfAE9",
        "outputId": "d122d454-6c6a-40bd-ccd7-9deec91bd5d8"
      },
      "execution_count": null,
      "outputs": [
        {
          "output_type": "stream",
          "name": "stdout",
          "text": [
            "40\n"
          ]
        }
      ]
    },
    {
      "cell_type": "code",
      "source": [
        "print(x >> 2) # right shift"
      ],
      "metadata": {
        "colab": {
          "base_uri": "https://localhost:8080/"
        },
        "id": "LjtHzyV_fD-m",
        "outputId": "c94f198d-4ba0-40d2-8790-816e6b3bd009"
      },
      "execution_count": null,
      "outputs": [
        {
          "output_type": "stream",
          "name": "stdout",
          "text": [
            "2\n"
          ]
        }
      ]
    },
    {
      "cell_type": "markdown",
      "source": [
        "## Membership Operators\n",
        "\n",
        "\n",
        "\n",
        "*   Used to test for membership in a sequence such as strings, lists, tuples or dictionaries.\n",
        "*   For example, if an element is found in the sequence or not can be asserted using these operators.\n",
        "\n",
        "There are 2 membership operators:\n",
        "\n",
        "\n",
        "\n",
        "1.   in\n",
        "2.   not in\n",
        "\n",
        "\n",
        "\n"
      ],
      "metadata": {
        "id": "XvZLSbgKfRWn"
      }
    },
    {
      "cell_type": "markdown",
      "source": [
        "### in operator\n",
        "\n",
        "It returns True if an elements is found in the specified sequence.\n",
        "\n",
        "If the element is not found then it returns False."
      ],
      "metadata": {
        "id": "qqyRNmaAftA_"
      }
    },
    {
      "cell_type": "markdown",
      "source": [
        "### Not in Operator\n",
        "\n",
        "It works in reverse manner of the 'in' oeprator.\n",
        "\n",
        "It returns True if the element is not present in the sequence and False if the element is present in the sequence."
      ],
      "metadata": {
        "id": "-OPVs1VygCid"
      }
    },
    {
      "cell_type": "code",
      "source": [
        "# checking in lists\n",
        "names = [\"Jayesh\", \"Ramesh\", \"Marcus\", \"Mustafa\"]\n",
        "for name in names:\n",
        "  print(name)"
      ],
      "metadata": {
        "colab": {
          "base_uri": "https://localhost:8080/"
        },
        "id": "upYB-c5GgWTg",
        "outputId": "30d225c8-d877-447c-ab39-6f5a8d045196"
      },
      "execution_count": null,
      "outputs": [
        {
          "output_type": "stream",
          "name": "stdout",
          "text": [
            "Jayesh\n",
            "Ramesh\n",
            "Marcus\n",
            "Mustafa\n"
          ]
        }
      ]
    },
    {
      "cell_type": "code",
      "source": [
        "if \"Jayesh\" in names:\n",
        "  print(\"Yes\")\n",
        "else:\n",
        "  print(\"No\")"
      ],
      "metadata": {
        "colab": {
          "base_uri": "https://localhost:8080/"
        },
        "id": "Ai5y83RoglGB",
        "outputId": "3a6b4289-37d5-4dd2-8af8-42fd622cdf33"
      },
      "execution_count": null,
      "outputs": [
        {
          "output_type": "stream",
          "name": "stdout",
          "text": [
            "Yes\n"
          ]
        }
      ]
    },
    {
      "cell_type": "code",
      "source": [
        "if \"Priya\" not in names:\n",
        "  print(\"Yes\")\n",
        "else:\n",
        "  print(\"No\")"
      ],
      "metadata": {
        "colab": {
          "base_uri": "https://localhost:8080/"
        },
        "id": "lEemoSSGgpWm",
        "outputId": "93bf3861-d6ba-4b3d-8178-4faaddacdb37"
      },
      "execution_count": null,
      "outputs": [
        {
          "output_type": "stream",
          "name": "stdout",
          "text": [
            "Yes\n"
          ]
        }
      ]
    },
    {
      "cell_type": "code",
      "source": [
        "# checking in dictionaries\n",
        "postal = {'Mumbai' : 401107, 'Delhi' : 110001, 'Hyderabad' : 500090, 'Chennai': 600001}\n",
        "\n",
        "for city in postal:\n",
        "  print(city, postal[city])"
      ],
      "metadata": {
        "colab": {
          "base_uri": "https://localhost:8080/"
        },
        "id": "uonipkkpgy6I",
        "outputId": "62438b33-1f16-4ff7-cef3-f44773a3d414"
      },
      "execution_count": null,
      "outputs": [
        {
          "output_type": "stream",
          "name": "stdout",
          "text": [
            "Mumbai 401107\n",
            "Delhi 110001\n",
            "Hyderabad 500090\n",
            "Chennai 600001\n"
          ]
        }
      ]
    },
    {
      "cell_type": "markdown",
      "source": [
        "## Identity Operators\n",
        "\n",
        "\n",
        "*   These operators compare the memory locations of 2 objects. Hence, we can know that whether both of the objects are same or not.\n",
        "*   We can check it by using the id() function.\n",
        "*   The function returns an integer number called *identity number* that represent the memory location of the object stored.\n",
        "\n"
      ],
      "metadata": {
        "id": "d4doiDTqhdog"
      }
    },
    {
      "cell_type": "code",
      "source": [
        "a = 18\n",
        "b = 18\n",
        "\n",
        "print(id(a))\n",
        "print(id(b))"
      ],
      "metadata": {
        "colab": {
          "base_uri": "https://localhost:8080/"
        },
        "id": "aZQypwj6hYOZ",
        "outputId": "d63dacff-d3d5-4014-f93a-03eb4ec31b57"
      },
      "execution_count": null,
      "outputs": [
        {
          "output_type": "stream",
          "name": "stdout",
          "text": [
            "139650914288400\n",
            "139650914288400\n"
          ]
        }
      ]
    },
    {
      "cell_type": "markdown",
      "source": [
        "There are 2 types of identity operators:\n",
        "\n",
        "\n",
        "1.   is\n",
        "2.   is not\n",
        "\n"
      ],
      "metadata": {
        "id": "4EBQMbLCrHVB"
      }
    },
    {
      "cell_type": "markdown",
      "source": [
        "### Is operator\n",
        "\n",
        "\n",
        "\n",
        "*   It is used to compare whether 2 objects are same or not.\n",
        "*   It will internally compare the identity number of the objects.\n",
        "*   If the identity numbers are same, then it will return true or else it'll return false.\n",
        "\n"
      ],
      "metadata": {
        "id": "Vf_eK7eprPPT"
      }
    },
    {
      "cell_type": "code",
      "source": [],
      "metadata": {
        "id": "JBXPjkmKiNYI"
      },
      "execution_count": null,
      "outputs": []
    }
  ]
}