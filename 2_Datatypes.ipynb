{
  "nbformat": 4,
  "nbformat_minor": 0,
  "metadata": {
    "colab": {
      "provenance": [],
      "collapsed_sections": [
        "9cc8HanIaCmA"
      ],
      "authorship_tag": "ABX9TyPdM4VpILC8ttmG/z97/FC+",
      "include_colab_link": true
    },
    "kernelspec": {
      "name": "python3",
      "display_name": "Python 3"
    },
    "language_info": {
      "name": "python"
    }
  },
  "cells": [
    {
      "cell_type": "markdown",
      "metadata": {
        "id": "view-in-github",
        "colab_type": "text"
      },
      "source": [
        "<a href=\"https://colab.research.google.com/github/JayPat2003/Python-from-Scratch/blob/main/2_Datatypes.ipynb\" target=\"_parent\"><img src=\"https://colab.research.google.com/assets/colab-badge.svg\" alt=\"Open In Colab\"/></a>"
      ]
    },
    {
      "cell_type": "markdown",
      "source": [
        "# Comments"
      ],
      "metadata": {
        "id": "9cc8HanIaCmA"
      }
    },
    {
      "cell_type": "markdown",
      "source": [
        "There are 2 types of comments in python:\n",
        "\n",
        "\n",
        "1.   Single Line Comment\n",
        "2.   Multi Line Comment\n",
        "\n"
      ],
      "metadata": {
        "id": "mJ-aVJizagzw"
      }
    },
    {
      "cell_type": "markdown",
      "source": [
        "## Single Line Comments"
      ],
      "metadata": {
        "id": "QKH2ctThavId"
      }
    },
    {
      "cell_type": "markdown",
      "source": [
        "These comments start with a hash symbol (#) and the entire line is considered as a comment."
      ],
      "metadata": {
        "id": "d32Gr3VZaz23"
      }
    },
    {
      "cell_type": "code",
      "source": [
        "# This is a single line comment in python."
      ],
      "metadata": {
        "id": "oICqQLy8bIsl"
      },
      "execution_count": null,
      "outputs": []
    },
    {
      "cell_type": "markdown",
      "source": [
        "## Multi line Comments"
      ],
      "metadata": {
        "id": "JMvvKAf-bas1"
      }
    },
    {
      "cell_type": "code",
      "source": [
        "# This is the program to find the salary\n",
        "# I am an employee\n",
        "# I am good and feeling nice here."
      ],
      "metadata": {
        "id": "DVdqH1KXbXVl"
      },
      "execution_count": null,
      "outputs": []
    },
    {
      "cell_type": "markdown",
      "source": [
        "Instead of using # symbol for every line, we can use triple double quotes (\"\"\") or triple single quotes ('''). These multi line comments are also called as block comments."
      ],
      "metadata": {
        "id": "ql6tO3Vjb3Nw"
      }
    },
    {
      "cell_type": "code",
      "source": [
        "\"\"\"\n",
        "This is a multi line comment in python.\n",
        "I am an employee\n",
        "I am good and feeling nice here.\n",
        "\"\"\""
      ],
      "metadata": {
        "colab": {
          "base_uri": "https://localhost:8080/",
          "height": 35
        },
        "id": "arYRU5Pab19G",
        "outputId": "73dc7cd4-0424-45b0-ae76-136caa367757"
      },
      "execution_count": null,
      "outputs": [
        {
          "output_type": "execute_result",
          "data": {
            "text/plain": [
              "'\\nThis is a multi line comment in python.\\nI am an employee\\nI am good and feeling nice here.\\n'"
            ],
            "application/vnd.google.colaboratory.intrinsic+json": {
              "type": "string"
            }
          },
          "metadata": {},
          "execution_count": 4
        }
      ]
    },
    {
      "cell_type": "code",
      "source": [
        "'''\n",
        "This is a multi line comment in python.\n",
        "I am an employee\n",
        "I am good and feeling nice here.\n",
        "'''"
      ],
      "metadata": {
        "colab": {
          "base_uri": "https://localhost:8080/",
          "height": 35
        },
        "id": "0O8oaL1kcIPG",
        "outputId": "cf2de91b-106c-4f7c-edc5-0bd0b65be6d4"
      },
      "execution_count": null,
      "outputs": [
        {
          "output_type": "execute_result",
          "data": {
            "text/plain": [
              "'\\nThis is a multi line comment in python.\\nI am an employee\\nI am good and feeling nice here.\\n'"
            ],
            "application/vnd.google.colaboratory.intrinsic+json": {
              "type": "string"
            }
          },
          "metadata": {},
          "execution_count": 5
        }
      ]
    },
    {
      "cell_type": "markdown",
      "source": [
        "\n",
        "\n",
        "*   Using \"\"\" or ''' are not recommended for comments by developers becasue they internally occupy memory and would waste time of the interpreter since the interpreter still considers them as regular strings with the exception that they can span multiple lines.\n",
        "\n",
        "* If we write strings inside \"\"\" or ''' and if these strings are written as first statements in module, function, class or a method, then these strings are called *documentation* strings or *docstrings.*\n",
        "\n",
        "\n",
        "\n",
        "\n"
      ],
      "metadata": {
        "id": "u4bV0bbNcqlK"
      }
    },
    {
      "cell_type": "markdown",
      "source": [
        "# Datatypes in Python\n",
        "\n",
        "A datatype represents the type of data stored into a variable or memory."
      ],
      "metadata": {
        "id": "4FQVfQbV0oYT"
      }
    },
    {
      "cell_type": "markdown",
      "source": [
        "## Built-in Datatypes\n",
        "\n",
        "The datatypes which are already available in Python language are called *Built-in* datatypes.\n",
        "\n",
        "There are 5 types of built-in datatypes, they're as follows:\n",
        "\n",
        "\n",
        "*   None Type\n",
        "*   Numeric Types\n",
        "*   Sequences\n",
        "*   Sets\n",
        "*   Mappings\n",
        "\n"
      ],
      "metadata": {
        "id": "M5aoIhJ509aV"
      }
    },
    {
      "cell_type": "markdown",
      "source": [
        "### The None Type\n",
        "\n",
        "\n",
        "\n",
        "*   In Python, the 'None' datatype represents an object that doesn't contain any value. Whereas in Java it is called as 'null' object.\n",
        "*   One of the uses of 'None' is that it is used inside a function as a default value of the arguments. When calling the function, if no value is passed, then the default value will be taken as 'None'.\n",
        "*   If some value is passed inside the function then that specific value is used by the function.\n",
        "*   In Boolean expressions, 'None' datatype represents 'False'.\n",
        "\n"
      ],
      "metadata": {
        "id": "FBOu2qqh1fpG"
      }
    },
    {
      "cell_type": "markdown",
      "source": [
        "### Numeric Types\n",
        "There are 3 sub-types in it:\n",
        "\n",
        "\n",
        "*   int\n",
        "*   float\n",
        "*   complex\n",
        "\n",
        "\n"
      ],
      "metadata": {
        "id": "b8sWz-zqufR3"
      }
    },
    {
      "cell_type": "markdown",
      "source": [
        "#### Int Datatype\n",
        "\n",
        "\n",
        "*   It represent a number without decimal points or fractional parts.\n",
        "*   For example: 200,98,-3, etc.\n",
        "\n",
        "\n",
        "```\n",
        "a = -90\n",
        "```\n",
        "Here, a is called an int type variable since it is storing -90 as an integer value. In Python, there is no limit for the size of an int datatype\n",
        "\n",
        "\n",
        "\n"
      ],
      "metadata": {
        "id": "y5GJgHf6u50v"
      }
    },
    {
      "cell_type": "markdown",
      "source": [
        "#### Float Datatype\n",
        "\n",
        "\n",
        "*   It represents those numbers which contain decimal point.\n",
        "*   For example: 9.4, 89.8, etc.\n",
        "\n",
        "\n",
        "\n",
        "```\n",
        "num = 74.9803\n",
        "```\n",
        "\n",
        "\n",
        "*   These can be also written in scientific notation where we can use 'e' or 'E' which represents 'exponentiation'.\n",
        "\n",
        "\n",
        "\n",
        "```\n",
        "x = 23.45e4\n",
        "```\n",
        "That means that the float value is 23.45 x 10^4 will be stored in the variable x. It is convenient in scientific notation because large numbers can be represented using less memory.\n",
        "\n",
        "\n",
        "\n",
        "\n"
      ],
      "metadata": {
        "id": "-LmRW2MZvj-i"
      }
    },
    {
      "cell_type": "markdown",
      "source": [
        "#### Complex Datatype\n",
        "\n",
        "\n",
        "*   The complex numbers are written in the form of a + bj or a + bJ\n",
        "*   Here, a represents the real part of the number and b represents the imaginary part and it is suffix by 'j' or 'J'.\n",
        "*   b indicates the square root of -1.\n",
        "*   For example: 3 + 5j, -1 - 8.7j, etc.\n",
        "\n",
        "\n",
        "\n",
        "```\n",
        "im1 = 2 + 3.4j\n",
        "```\n",
        "\n",
        "\n",
        "\n"
      ],
      "metadata": {
        "id": "YKyAjnxMxS3v"
      }
    },
    {
      "cell_type": "code",
      "source": [
        "# Program to display the sum of 2 complex numbers\n",
        "c1 = 2.4 + 3.9j\n",
        "c2 = -9 - 7j\n",
        "c3 = c1 + c2\n",
        "print(\"Sum is:\", c3)"
      ],
      "metadata": {
        "colab": {
          "base_uri": "https://localhost:8080/"
        },
        "id": "o9qQ4emAvhsl",
        "outputId": "7e88605b-36a3-4b20-b4cf-453e3b43710b"
      },
      "execution_count": null,
      "outputs": [
        {
          "output_type": "stream",
          "name": "stdout",
          "text": [
            "Sum is: (-6.6-3.1j)\n"
          ]
        }
      ]
    },
    {
      "cell_type": "markdown",
      "source": [
        "#### Representing Binary, Octal and Hexadecimal Numbers\n",
        "\n",
        "*   A binary number should be written by prefexing 0b (zero and b) or 0B (zero and B) before the value. For example: 0b010110, 0B00111.\n",
        "*   Hexadecimal numebrs are written by prefixing 0x (zero and x) or 0X (zero and X). For example: 0xA181,0X11fb98.\n",
        "*   Octal numbers are written by prefixing 0o (zero and o) or 0O (zero and O). For example: 0o143, 0O2213.\n",
        "\n"
      ],
      "metadata": {
        "id": "nqhw8IwnzBs-"
      }
    },
    {
      "cell_type": "markdown",
      "source": [
        "#### Converting the Datatypes Explicitly\n",
        "\n",
        "*   Depending on the type of data, Python internally assumes the datatype for the variable.\n",
        "*   Sometimes, we want to convert one datatype into another type. This is called *type conversion* or *coercion*."
      ],
      "metadata": {
        "id": "dfJWXkO32Sgk"
      }
    },
    {
      "cell_type": "code",
      "source": [
        "# int(x) is used to convert the number x into int type.\n",
        "x = 13.45\n",
        "print(int(x))"
      ],
      "metadata": {
        "id": "zYOw3YdGyb8m",
        "colab": {
          "base_uri": "https://localhost:8080/"
        },
        "outputId": "c518fd65-89f2-425c-891c-25dc6a659fd6"
      },
      "execution_count": null,
      "outputs": [
        {
          "output_type": "stream",
          "name": "stdout",
          "text": [
            "13\n"
          ]
        }
      ]
    },
    {
      "cell_type": "code",
      "source": [
        "# float() is used to convert x into float type.\n",
        "x = 12\n",
        "print(float(x))"
      ],
      "metadata": {
        "colab": {
          "base_uri": "https://localhost:8080/"
        },
        "id": "CEcesM35Fscv",
        "outputId": "19421d59-fe73-496a-dbc0-96cc6d9dc812"
      },
      "execution_count": null,
      "outputs": [
        {
          "output_type": "stream",
          "name": "stdout",
          "text": [
            "12.0\n"
          ]
        }
      ]
    },
    {
      "cell_type": "code",
      "source": [
        "# complex(x) is used to convert x into complex number with real part x and 0 as the imaginary part\n",
        "\n",
        "x = 12\n",
        "print(complex(x))"
      ],
      "metadata": {
        "colab": {
          "base_uri": "https://localhost:8080/"
        },
        "id": "ph1hprv8F3Nr",
        "outputId": "5bfe7189-9b4e-4011-efd0-a733b86b2ee9"
      },
      "execution_count": null,
      "outputs": [
        {
          "output_type": "stream",
          "name": "stdout",
          "text": [
            "(12+0j)\n"
          ]
        }
      ]
    },
    {
      "cell_type": "code",
      "source": [
        "a = 12\n",
        "b = -2\n",
        "complex(a,b)"
      ],
      "metadata": {
        "colab": {
          "base_uri": "https://localhost:8080/"
        },
        "id": "cIWSaZTjH0wy",
        "outputId": "c6091288-0a00-4ccd-e643-b808d1a3ae16"
      },
      "execution_count": null,
      "outputs": [
        {
          "output_type": "execute_result",
          "data": {
            "text/plain": [
              "(12-2j)"
            ]
          },
          "metadata": {},
          "execution_count": 10
        }
      ]
    },
    {
      "cell_type": "code",
      "source": [
        "#Program to convert octal, binary and hexadecimal systems into decimal number system\n",
        "n1 = 0o12\n",
        "n2 = 0b01011\n",
        "n3 = 0x11fb98\n",
        "\n",
        "n = int(n1)\n",
        "print('Octal = ', n)\n",
        "\n",
        "n = int(n2)\n",
        "print('Binary = ', n)\n",
        "\n",
        "n = int(n3)\n",
        "print('Hexadecimal = ', n)"
      ],
      "metadata": {
        "colab": {
          "base_uri": "https://localhost:8080/"
        },
        "id": "J6hNl-ZXH5BT",
        "outputId": "c97e9f46-6f2b-4500-daea-06c26e1ced04"
      },
      "execution_count": null,
      "outputs": [
        {
          "output_type": "stream",
          "name": "stdout",
          "text": [
            "Octal =  10\n",
            "Binary =  11\n",
            "Hexadecimal =  1178520\n"
          ]
        }
      ]
    },
    {
      "cell_type": "code",
      "source": [
        "str = \"1f4\" #String str contains a hexadecimal number\n",
        "n = int(str, 16) #Convert string into decimal number mentioned with base 16\n",
        "print(n)\n",
        "# it is base 2 for the binary numbers."
      ],
      "metadata": {
        "colab": {
          "base_uri": "https://localhost:8080/"
        },
        "id": "Lz4dEoxjJVmc",
        "outputId": "9a4f2a45-4c7e-41f3-f604-ae82a67aa11d"
      },
      "execution_count": null,
      "outputs": [
        {
          "output_type": "stream",
          "name": "stdout",
          "text": [
            "500\n"
          ]
        }
      ]
    },
    {
      "cell_type": "code",
      "source": [
        "#Python program to convert into decima number system\n",
        "s1 = \"12\"\n",
        "s2 = \"10110011\"\n",
        "s3 = \"2d4\"\n",
        "\n",
        "n = int(s1,8)\n",
        "print('Octal: ', n)\n",
        "\n",
        "n = int(s2,2)\n",
        "print('Binary: ', n)\n",
        "\n",
        "n = int(s3,16)\n",
        "print('Hexadecimal: ', n)"
      ],
      "metadata": {
        "colab": {
          "base_uri": "https://localhost:8080/"
        },
        "id": "8YbWMk6lJ1jW",
        "outputId": "e9e86e60-6f89-4b06-a424-cbb2769229f6"
      },
      "execution_count": null,
      "outputs": [
        {
          "output_type": "stream",
          "name": "stdout",
          "text": [
            "Octal:  10\n",
            "Binary:  179\n",
            "Hexadecimal:  724\n"
          ]
        }
      ]
    },
    {
      "cell_type": "code",
      "source": [
        "# bin() to convert nuumber into binary system\n",
        "# oct() to convert number into octal system\n",
        "# hex() to convert number into hexadecimal\n",
        "\n",
        "a = 24\n",
        "b = bin(a)\n",
        "print(b)\n",
        "\n",
        "b = oct(a)\n",
        "print(b)\n",
        "\n",
        "b = hex(a)\n",
        "print(b)"
      ],
      "metadata": {
        "colab": {
          "base_uri": "https://localhost:8080/"
        },
        "id": "bFl2Iqr8Kpeq",
        "outputId": "78bc81b8-6636-46b9-efc7-7bf7b659f09b"
      },
      "execution_count": null,
      "outputs": [
        {
          "output_type": "stream",
          "name": "stdout",
          "text": [
            "0b11000\n",
            "0o30\n",
            "0x18\n"
          ]
        }
      ]
    },
    {
      "cell_type": "markdown",
      "source": [
        "## Bool Datatype\n",
        "\n",
        "\n",
        "\n",
        "*   The bool datatype represents boolean values.\n",
        "*   There are only 2 boolean values True or False.\n",
        "*   True as 1 and False as 0. Blank string \"\" also represent False.\n",
        "\n",
        "\n"
      ],
      "metadata": {
        "id": "jvsYpyNzL2rj"
      }
    },
    {
      "cell_type": "code",
      "source": [
        "a = 10\n",
        "b = 14\n",
        "if(a<b):\n",
        "  print('Hi')"
      ],
      "metadata": {
        "colab": {
          "base_uri": "https://localhost:8080/"
        },
        "id": "W0oSYtRALn72",
        "outputId": "ac0e0a15-9c4b-4bbb-ec05-6bd5078fe82f"
      },
      "execution_count": null,
      "outputs": [
        {
          "output_type": "stream",
          "name": "stdout",
          "text": [
            "Hi\n"
          ]
        }
      ]
    },
    {
      "cell_type": "code",
      "source": [
        "a = 19 > 2\n",
        "print(a)\n",
        "\n",
        "b = 2 > 89\n",
        "print(b)"
      ],
      "metadata": {
        "colab": {
          "base_uri": "https://localhost:8080/"
        },
        "id": "ccD0bWsIMxlM",
        "outputId": "ee14badd-fcaa-41df-d882-4cdae88253c3"
      },
      "execution_count": null,
      "outputs": [
        {
          "output_type": "stream",
          "name": "stdout",
          "text": [
            "True\n",
            "False\n"
          ]
        }
      ]
    },
    {
      "cell_type": "markdown",
      "source": [
        "## Sequence in Python\n",
        " Sequence is a group of elements or items. There are 6 types of sequences in Python:\n",
        "\n",
        "\n",
        "1.   str\n",
        "2.   bytes\n",
        "3.   bytearray\n",
        "4.   list\n",
        "5. tuple\n",
        "6. range\n",
        "\n"
      ],
      "metadata": {
        "id": "cnDPjb7kNFCV"
      }
    },
    {
      "cell_type": "markdown",
      "source": [
        "#### **Str Datatype**\n",
        "\n",
        "str represents string datatype. A string is represented y a group of characters. Strings can be enclosed in single and double quotes. Both are valid."
      ],
      "metadata": {
        "id": "AN63imFAZBcn"
      }
    },
    {
      "cell_type": "code",
      "source": [
        "str = \"\"\" This is 'Python' programming \"\"\"\n",
        "print(str)\n",
        "\n",
        "str = '''This is \"Python\" programming'''\n",
        "print(str)"
      ],
      "metadata": {
        "colab": {
          "base_uri": "https://localhost:8080/"
        },
        "id": "N1AUK92Ga254",
        "outputId": "733356da-0974-42a5-d9e4-bbd6cfb5e707"
      },
      "execution_count": null,
      "outputs": [
        {
          "output_type": "stream",
          "name": "stdout",
          "text": [
            " This is 'Python' programming \n",
            "This is \"Python\" programming\n"
          ]
        }
      ]
    },
    {
      "cell_type": "code",
      "source": [
        "s = 'Welcome to Python Course'\n",
        "print(s)"
      ],
      "metadata": {
        "colab": {
          "base_uri": "https://localhost:8080/"
        },
        "id": "ndLLzfe2bNEx",
        "outputId": "2650172b-dba6-4a13-ce01-38da5fa9ac59"
      },
      "execution_count": null,
      "outputs": [
        {
          "output_type": "stream",
          "name": "stdout",
          "text": [
            "Welcome to Python Course\n"
          ]
        }
      ]
    },
    {
      "cell_type": "code",
      "source": [
        "print(s[0])"
      ],
      "metadata": {
        "colab": {
          "base_uri": "https://localhost:8080/"
        },
        "id": "WYMfpYUFbZ7c",
        "outputId": "fa8ec5f6-09f7-4024-8f8d-63aa6822cc09"
      },
      "execution_count": null,
      "outputs": [
        {
          "output_type": "stream",
          "name": "stdout",
          "text": [
            "W\n"
          ]
        }
      ]
    },
    {
      "cell_type": "code",
      "source": [
        "print(s[2:6]) # character from 2nd to 6th character"
      ],
      "metadata": {
        "colab": {
          "base_uri": "https://localhost:8080/"
        },
        "id": "M9grQVKUbdhu",
        "outputId": "46c9bac7-5e1e-4bf6-e5f7-bfe39f45cb78"
      },
      "execution_count": null,
      "outputs": [
        {
          "output_type": "stream",
          "name": "stdout",
          "text": [
            "lcom\n"
          ]
        }
      ]
    },
    {
      "cell_type": "code",
      "source": [
        "print(s[8:]) # character from 8th character till the end"
      ],
      "metadata": {
        "colab": {
          "base_uri": "https://localhost:8080/"
        },
        "id": "TQ8lW4mLbiFP",
        "outputId": "07fba15e-55b5-4a52-cd95-004270d0b909"
      },
      "execution_count": null,
      "outputs": [
        {
          "output_type": "stream",
          "name": "stdout",
          "text": [
            "to Python Course\n"
          ]
        }
      ]
    },
    {
      "cell_type": "code",
      "source": [
        "print(s[-1]) # first character from the end"
      ],
      "metadata": {
        "colab": {
          "base_uri": "https://localhost:8080/"
        },
        "id": "kSBmw0HkbnaQ",
        "outputId": "6afad233-8fb2-4f30-a00b-07a1620fbe39"
      },
      "execution_count": null,
      "outputs": [
        {
          "output_type": "stream",
          "name": "stdout",
          "text": [
            "e\n"
          ]
        }
      ]
    },
    {
      "cell_type": "code",
      "source": [
        "# * sysmbol used for repetition of the string\n",
        "print(s*2)"
      ],
      "metadata": {
        "id": "cYG4EY_abtif",
        "colab": {
          "base_uri": "https://localhost:8080/"
        },
        "outputId": "f6409035-219d-4fa3-c13a-172ca3baa895"
      },
      "execution_count": null,
      "outputs": [
        {
          "output_type": "stream",
          "name": "stdout",
          "text": [
            "Welcome to Python CourseWelcome to Python Course\n"
          ]
        }
      ]
    },
    {
      "cell_type": "markdown",
      "source": [
        "#### **Bytes Datatype**\n",
        "\n",
        "\n",
        "*   Bytes datatype represents a group of byte numbers just like an array does.\n",
        "*   A byte number is any postive integer from 0 to 255.\n",
        "*   Bytes array can store numbers in the range from 0 to 255 and it can't even store negative numbers.\n",
        "*   We can't modify or edit any element in the bytes type array.\n"
      ],
      "metadata": {
        "id": "6KysI8eXx5OP"
      }
    },
    {
      "cell_type": "code",
      "source": [
        "elements = [10,20,30,40,50]\n",
        "x = bytes(elements)\n",
        "print(x[0])"
      ],
      "metadata": {
        "colab": {
          "base_uri": "https://localhost:8080/"
        },
        "id": "lmuJO939xxFF",
        "outputId": "9210bbe9-3fad-401c-d605-414271835233"
      },
      "execution_count": null,
      "outputs": [
        {
          "output_type": "stream",
          "name": "stdout",
          "text": [
            "10\n"
          ]
        }
      ]
    },
    {
      "cell_type": "code",
      "source": [
        "# Program to understand bytes type array\n",
        "elements = [10,20,30,40,50]\n",
        "x = bytes(elements)\n",
        "for i in x:\n",
        "  print(i)"
      ],
      "metadata": {
        "colab": {
          "base_uri": "https://localhost:8080/"
        },
        "id": "Q_yJ_m_yyqZA",
        "outputId": "b6a8f80a-65e5-4b68-e942-d6cf6483aacf"
      },
      "execution_count": null,
      "outputs": [
        {
          "output_type": "stream",
          "name": "stdout",
          "text": [
            "10\n",
            "20\n",
            "30\n",
            "40\n",
            "50\n"
          ]
        }
      ]
    },
    {
      "cell_type": "markdown",
      "source": [
        "#### **Bytearray datatype**\n",
        "\n",
        "\n",
        "\n",
        "It is similar to bytes datatype but the difference is that they bytes array can't me modified but the bytearray type array can be modified.\n",
        "\n"
      ],
      "metadata": {
        "id": "bBNi9xZj1bKH"
      }
    },
    {
      "cell_type": "code",
      "source": [
        "# Program to understand bytearray type array\n",
        "# list of byte numbers\n",
        "\n",
        "elements = [10,20,30,40,50]\n",
        "x = bytearray(elements)\n",
        "\n",
        "#modify the first 2 elements\n",
        "x[0] = 2\n",
        "x[1] = 3\n",
        "\n",
        "#retreive elements from x using the for loop and display it\n",
        "for i in x:\n",
        "  print(i)"
      ],
      "metadata": {
        "colab": {
          "base_uri": "https://localhost:8080/"
        },
        "id": "n46WZtO51WaC",
        "outputId": "12065d20-95ce-4fdd-f543-72840743b5ff"
      },
      "execution_count": null,
      "outputs": [
        {
          "output_type": "stream",
          "name": "stdout",
          "text": [
            "2\n",
            "3\n",
            "30\n",
            "40\n",
            "50\n"
          ]
        }
      ]
    },
    {
      "cell_type": "markdown",
      "source": [
        "#### **List datatype**\n",
        "\n",
        "*   A list represents a group of elements.\n",
        "*   The main difference between a list and an array is that a list can store different types of elements but an array can store only type of elements.\n",
        "*   Lists can grow dynamically in memory. Whereas, the size of arrays are fixed and can't grow at runtime.\n",
        "*   Lists are represented using square brackets [ ] and the elements are written inside and seperated by commas.\n",
        "\n"
      ],
      "metadata": {
        "id": "yQCRoqcy40LO"
      }
    },
    {
      "cell_type": "code",
      "source": [
        "list = [1,43,3.5,\"Jayesh\"]\n",
        "print(list)"
      ],
      "metadata": {
        "colab": {
          "base_uri": "https://localhost:8080/"
        },
        "id": "SRr4LlCw2NEX",
        "outputId": "a7dfea19-2e0f-4fb5-94bf-27af65cf51eb"
      },
      "execution_count": null,
      "outputs": [
        {
          "output_type": "stream",
          "name": "stdout",
          "text": [
            "[1, 43, 3.5, 'Jayesh']\n"
          ]
        }
      ]
    },
    {
      "cell_type": "code",
      "source": [
        "print(list[0])"
      ],
      "metadata": {
        "colab": {
          "base_uri": "https://localhost:8080/"
        },
        "id": "29LR575_55xk",
        "outputId": "4fa9d120-7f6a-4109-e292-ebca2d36dd40"
      },
      "execution_count": null,
      "outputs": [
        {
          "output_type": "stream",
          "name": "stdout",
          "text": [
            "1\n"
          ]
        }
      ]
    },
    {
      "cell_type": "code",
      "source": [
        "print(list[1:3])"
      ],
      "metadata": {
        "colab": {
          "base_uri": "https://localhost:8080/"
        },
        "id": "6EecAIkE579e",
        "outputId": "e2b82899-46e4-4939-d959-bbfb97dbc38e"
      },
      "execution_count": null,
      "outputs": [
        {
          "output_type": "stream",
          "name": "stdout",
          "text": [
            "[43, 3.5]\n"
          ]
        }
      ]
    },
    {
      "cell_type": "code",
      "source": [
        "print(list[-2])"
      ],
      "metadata": {
        "colab": {
          "base_uri": "https://localhost:8080/"
        },
        "id": "J2FdLjfg5-W9",
        "outputId": "3f05e7be-b264-4866-8dda-651b40c0beac"
      },
      "execution_count": null,
      "outputs": [
        {
          "output_type": "stream",
          "name": "stdout",
          "text": [
            "3.5\n"
          ]
        }
      ]
    },
    {
      "cell_type": "code",
      "source": [
        "print(list*2)"
      ],
      "metadata": {
        "colab": {
          "base_uri": "https://localhost:8080/"
        },
        "id": "kcq71AZq6B9g",
        "outputId": "c86b936f-ddc0-480e-d0e6-facf27f4842d"
      },
      "execution_count": null,
      "outputs": [
        {
          "output_type": "stream",
          "name": "stdout",
          "text": [
            "[1, 43, 3.5, 'Jayesh', 1, 43, 3.5, 'Jayesh']\n"
          ]
        }
      ]
    },
    {
      "cell_type": "markdown",
      "source": [
        "#### **Tuple datatype**\n",
        "\n",
        "\n",
        "\n",
        "*   Tuples are similar to list.\n",
        "*   They are group of elements which can be of different types.\n",
        "*   Elements are seperated by commas and enclosed in ( ).\n",
        "*   We can NOT modify elements inside the tuple. A tuple can be treated as read-only\n",
        "\n"
      ],
      "metadata": {
        "id": "TXaaK4gF6TrY"
      }
    },
    {
      "cell_type": "code",
      "source": [
        "tpl = (10,-3, 9.4, \"Python\", \"Jayesh\")\n",
        "print(tpl)"
      ],
      "metadata": {
        "colab": {
          "base_uri": "https://localhost:8080/"
        },
        "id": "Wi7jc7c_6Du2",
        "outputId": "04ed5fea-1a4e-46c2-e86b-816a975467d5"
      },
      "execution_count": null,
      "outputs": [
        {
          "output_type": "stream",
          "name": "stdout",
          "text": [
            "(10, -3, 9.4, 'Python', 'Jayesh')\n"
          ]
        }
      ]
    },
    {
      "cell_type": "code",
      "source": [
        "print(tpl[0])"
      ],
      "metadata": {
        "colab": {
          "base_uri": "https://localhost:8080/"
        },
        "id": "8osEIms969j-",
        "outputId": "e13974e1-533b-4b1e-f406-f44529ccc23d"
      },
      "execution_count": null,
      "outputs": [
        {
          "output_type": "stream",
          "name": "stdout",
          "text": [
            "10\n"
          ]
        }
      ]
    },
    {
      "cell_type": "code",
      "source": [
        "print(tpl[1:3])"
      ],
      "metadata": {
        "colab": {
          "base_uri": "https://localhost:8080/"
        },
        "id": "eYZNVQwi7Fi4",
        "outputId": "74b2b173-2fbb-4927-c3c7-f314a03b076d"
      },
      "execution_count": null,
      "outputs": [
        {
          "output_type": "stream",
          "name": "stdout",
          "text": [
            "(-3, 9.4)\n"
          ]
        }
      ]
    },
    {
      "cell_type": "code",
      "source": [
        "print(tpl[-2])"
      ],
      "metadata": {
        "colab": {
          "base_uri": "https://localhost:8080/"
        },
        "id": "C-dCPWTG7HZi",
        "outputId": "8042c1b1-8f2f-4ce2-8a0c-7be9c9b6b6ad"
      },
      "execution_count": null,
      "outputs": [
        {
          "output_type": "stream",
          "name": "stdout",
          "text": [
            "Python\n"
          ]
        }
      ]
    },
    {
      "cell_type": "code",
      "source": [
        "print(tpl*2)"
      ],
      "metadata": {
        "colab": {
          "base_uri": "https://localhost:8080/"
        },
        "id": "CrzQhwhV7Jcu",
        "outputId": "79461452-f196-4bc0-ac93-e8ab97eca0c3"
      },
      "execution_count": null,
      "outputs": [
        {
          "output_type": "stream",
          "name": "stdout",
          "text": [
            "(10, -3, 9.4, 'Python', 'Jayesh', 10, -3, 9.4, 'Python', 'Jayesh')\n"
          ]
        }
      ]
    },
    {
      "cell_type": "markdown",
      "source": [
        "#### **Range datatype**\n",
        "\n",
        "\n",
        "*   They represent a sequence of numbers.\n",
        "*   Numbers in the range are not modifiable.\n",
        "*   Generally used for repeating a for loop for a specific number of times.\n",
        "\n"
      ],
      "metadata": {
        "id": "ra8g0IFD7o8N"
      }
    },
    {
      "cell_type": "code",
      "source": [
        "r = range(10)\n",
        "for i in r:\n",
        "  print(i)"
      ],
      "metadata": {
        "colab": {
          "base_uri": "https://localhost:8080/"
        },
        "id": "Nq1Zmn0n7Slv",
        "outputId": "93030611-b0d2-45c6-b55d-d18ba3f5f062"
      },
      "execution_count": null,
      "outputs": [
        {
          "output_type": "stream",
          "name": "stdout",
          "text": [
            "0\n",
            "1\n",
            "2\n",
            "3\n",
            "4\n",
            "5\n",
            "6\n",
            "7\n",
            "8\n",
            "9\n"
          ]
        }
      ]
    },
    {
      "cell_type": "code",
      "source": [
        "r = range(20,30,2)\n",
        "for i in r:\n",
        "  print(i)"
      ],
      "metadata": {
        "colab": {
          "base_uri": "https://localhost:8080/"
        },
        "id": "bxvnVnIO8cMf",
        "outputId": "6d8dd0c8-4ccb-4c76-8c85-7f9acb418c45"
      },
      "execution_count": null,
      "outputs": [
        {
          "output_type": "stream",
          "name": "stdout",
          "text": [
            "20\n",
            "22\n",
            "24\n",
            "26\n",
            "28\n"
          ]
        }
      ]
    },
    {
      "cell_type": "markdown",
      "source": [
        "### **Sets**\n",
        "\n",
        "*   A set is an unordered collection of elements just like a set in Maths.\n",
        "*   The order of the elements is not maintained in the sets.\n",
        "*   Here, elements may not appear in the same order as they are entered into the set.\n",
        "*   Sets do NOT accept duplicate elements.\n",
        "\n",
        "There are 2 sub-types of sets:\n",
        "1. Set datatype\n",
        "2. Frozenset datatype\n",
        "\n"
      ],
      "metadata": {
        "id": "O33S4Tuq8udc"
      }
    },
    {
      "cell_type": "markdown",
      "source": [
        "#### **Set Datatype**\n",
        "\n",
        "\n",
        "*   Here, elements are seperated by commas and aare enclosed inside { }.\n",
        "*   The output of the set may not be ordered.\n",
        "*   We can't retreive elements using indexing or slicing operations.\n",
        "\n"
      ],
      "metadata": {
        "id": "jNvek_Ss-vgU"
      }
    },
    {
      "cell_type": "code",
      "source": [
        "s = {10, 20, 30, 20, 50}\n",
        "print(s)"
      ],
      "metadata": {
        "colab": {
          "base_uri": "https://localhost:8080/"
        },
        "id": "yAtf0-_u8oSH",
        "outputId": "25fce052-b86b-42e5-a63a-7231d3ac1abd"
      },
      "execution_count": null,
      "outputs": [
        {
          "output_type": "stream",
          "name": "stdout",
          "text": [
            "{10, 20, 50, 30}\n"
          ]
        }
      ]
    },
    {
      "cell_type": "code",
      "source": [
        "# can use set() function to create a set\n",
        "ch = set(\"Hello\")\n",
        "print(ch)"
      ],
      "metadata": {
        "colab": {
          "base_uri": "https://localhost:8080/"
        },
        "id": "eREbF5sLESUs",
        "outputId": "192f2af4-74ed-46f9-cd06-a52a186598ee"
      },
      "execution_count": null,
      "outputs": [
        {
          "output_type": "stream",
          "name": "stdout",
          "text": [
            "{'e', 'o', 'l', 'H'}\n"
          ]
        }
      ]
    },
    {
      "cell_type": "code",
      "source": [
        "lst = [1,2,5,4,3]\n",
        "s = set(lst)\n",
        "print(s)"
      ],
      "metadata": {
        "colab": {
          "base_uri": "https://localhost:8080/"
        },
        "id": "F6jK4WbWEcr1",
        "outputId": "d05904e2-be1f-47e3-e64c-0f2f8364345d"
      },
      "execution_count": null,
      "outputs": [
        {
          "output_type": "stream",
          "name": "stdout",
          "text": [
            "{1, 2, 3, 4, 5}\n"
          ]
        }
      ]
    },
    {
      "cell_type": "code",
      "source": [
        "# update() method is used to add elements to a set\n",
        "s.update([50,80])\n",
        "print(s)"
      ],
      "metadata": {
        "colab": {
          "base_uri": "https://localhost:8080/"
        },
        "id": "V8ZDvnRXFxUo",
        "outputId": "72af30bf-1fa0-4d92-8eca-e5e4bdcc20c4"
      },
      "execution_count": null,
      "outputs": [
        {
          "output_type": "stream",
          "name": "stdout",
          "text": [
            "{1, 2, 3, 4, 5, 80, 50}\n"
          ]
        }
      ]
    },
    {
      "cell_type": "code",
      "source": [
        "# remove() method is used to remove any particular element from a set\n",
        "s.remove(50)\n",
        "print(s)"
      ],
      "metadata": {
        "colab": {
          "base_uri": "https://localhost:8080/"
        },
        "id": "vAi_M6iFGCYk",
        "outputId": "aabe199d-f6be-4ce7-8e98-4c90b956afb1"
      },
      "execution_count": null,
      "outputs": [
        {
          "output_type": "stream",
          "name": "stdout",
          "text": [
            "{1, 2, 3, 4, 5, 80}\n"
          ]
        }
      ]
    },
    {
      "cell_type": "markdown",
      "source": [
        "#### Frozenset datatype\n",
        "\n",
        "*  It is same as the set datatype.\n",
        "*  The difference between the set datatype and frozen datatype is that set datatype can be modified and frozenset can't be modeified.\n",
        "*   We can create a frozenset using frozenset() function.\n",
        "\n"
      ],
      "metadata": {
        "id": "L99ZSW9dGlYI"
      }
    },
    {
      "cell_type": "code",
      "source": [
        "s = {50,60,70,80,90}\n",
        "print(s)\n",
        "\n",
        "fs = frozenset(s)\n",
        "print(fs)\n",
        "#"
      ],
      "metadata": {
        "colab": {
          "base_uri": "https://localhost:8080/"
        },
        "id": "CsdFxMTVGbY9",
        "outputId": "4ad69f7d-6f2d-4218-a7ea-b1e30652d348"
      },
      "execution_count": null,
      "outputs": [
        {
          "output_type": "stream",
          "name": "stdout",
          "text": [
            "{80, 50, 70, 90, 60}\n",
            "frozenset({80, 50, 70, 90, 60})\n"
          ]
        }
      ]
    },
    {
      "cell_type": "code",
      "source": [
        "fs = frozenset(\"abcdefg\")\n",
        "print(fs)"
      ],
      "metadata": {
        "colab": {
          "base_uri": "https://localhost:8080/"
        },
        "id": "4vPDvXXcIpXc",
        "outputId": "28331128-3a0e-4bc2-d3f4-57fcd1957fda"
      },
      "execution_count": null,
      "outputs": [
        {
          "output_type": "stream",
          "name": "stdout",
          "text": [
            "frozenset({'b', 'c', 'e', 'g', 'f', 'a', 'd'})\n"
          ]
        }
      ]
    },
    {
      "cell_type": "markdown",
      "source": [
        "update() and remove() methods won't work in frozensets since they can't be modified or updated."
      ],
      "metadata": {
        "id": "weKDAAHjJGZZ"
      }
    },
    {
      "cell_type": "markdown",
      "source": [
        "#### Mapping Types\n",
        "\n",
        "*   A map represents a group of elements in the form of key value pairs so that the key is given, we can retreive the value associated with it.\n",
        "\n",
        "*   The *dict* datatype which represents dictionary contains pairs where the 1st element represents the key and the next one becomes its value.\n",
        "\n",
        "*   Key value pair is separated by colon (:) and every pair is seperated by comma. All the elements should be enclosed inside curly brackets {}.\n",
        "\n"
      ],
      "metadata": {
        "id": "B9qemMtWJb_9"
      }
    },
    {
      "cell_type": "code",
      "source": [
        "d = {1:'Jayesh', 2:'Raju', 3:'Suresh'}\n",
        "print(d)"
      ],
      "metadata": {
        "colab": {
          "base_uri": "https://localhost:8080/"
        },
        "id": "MNN0ErgeI2FW",
        "outputId": "68e1852a-3e5f-47f8-b503-174ba2cfa1ff"
      },
      "execution_count": null,
      "outputs": [
        {
          "output_type": "stream",
          "name": "stdout",
          "text": [
            "{1: 'Jayesh', 2: 'Raju', 3: 'Suresh'}\n"
          ]
        }
      ]
    },
    {
      "cell_type": "code",
      "source": [
        "print(d[3])"
      ],
      "metadata": {
        "colab": {
          "base_uri": "https://localhost:8080/"
        },
        "id": "jQ0Wz-uNLD18",
        "outputId": "5173dfa7-35db-4d71-a968-f8e074577d6d"
      },
      "execution_count": null,
      "outputs": [
        {
          "output_type": "stream",
          "name": "stdout",
          "text": [
            "Suresh\n"
          ]
        }
      ]
    },
    {
      "cell_type": "code",
      "source": [
        "d.keys()"
      ],
      "metadata": {
        "colab": {
          "base_uri": "https://localhost:8080/"
        },
        "id": "YPA06a1rLLl0",
        "outputId": "e0a96418-fc63-4f98-dbb1-4b8b016eec84"
      },
      "execution_count": null,
      "outputs": [
        {
          "output_type": "execute_result",
          "data": {
            "text/plain": [
              "dict_keys([1, 2, 3])"
            ]
          },
          "metadata": {},
          "execution_count": 11
        }
      ]
    },
    {
      "cell_type": "code",
      "source": [
        "# we can update and remove the values inside the keys\n",
        "d[2] = \"Abdul\"\n",
        "print(d)"
      ],
      "metadata": {
        "colab": {
          "base_uri": "https://localhost:8080/"
        },
        "id": "NWjVN9dsLW8c",
        "outputId": "2a14f9fd-5dd5-447b-90ef-b36511645362"
      },
      "execution_count": null,
      "outputs": [
        {
          "output_type": "stream",
          "name": "stdout",
          "text": [
            "{1: 'Jayesh', 2: 'Abdul', 3: 'Suresh'}\n"
          ]
        }
      ]
    },
    {
      "cell_type": "code",
      "source": [
        "del d[3]\n",
        "print(d)"
      ],
      "metadata": {
        "colab": {
          "base_uri": "https://localhost:8080/"
        },
        "id": "swgV5aVKLgyA",
        "outputId": "26350153-5b81-4e3f-9a20-d4adcadd7ac9"
      },
      "execution_count": null,
      "outputs": [
        {
          "output_type": "stream",
          "name": "stdout",
          "text": [
            "{1: 'Jayesh', 2: 'Abdul'}\n"
          ]
        }
      ]
    },
    {
      "cell_type": "markdown",
      "source": [
        "## **Literals**\n",
        "A *literal* is a constant value that is stored into a variable in a program.\n",
        "\n",
        "There are different types of literals in Python:\n",
        "\n",
        "\n",
        "*   Numeric literals\n",
        "*   Boolean literals\n",
        "*   String literals\n",
        "\n"
      ],
      "metadata": {
        "id": "zQCNVoVYMYS8"
      }
    },
    {
      "cell_type": "code",
      "source": [
        "# String literals\n",
        "str = \"This is first line and \\\n",
        "this will be a continuation of the first line\"\n",
        "print(str)"
      ],
      "metadata": {
        "colab": {
          "base_uri": "https://localhost:8080/"
        },
        "id": "Xufz1pHJL-Xp",
        "outputId": "036e6322-4f7c-45d6-acc8-cc30bf93cb00"
      },
      "execution_count": null,
      "outputs": [
        {
          "output_type": "stream",
          "name": "stdout",
          "text": [
            "This is first line and this will be a continuation of the first line\n"
          ]
        }
      ]
    },
    {
      "cell_type": "code",
      "source": [
        "# \\n for next line\n",
        "str = \"This is \\n Python Language.\"\n",
        "print(str)"
      ],
      "metadata": {
        "colab": {
          "base_uri": "https://localhost:8080/"
        },
        "id": "dVBQfAtANhHL",
        "outputId": "28999c72-a8ae-4ffa-819c-c49e0b1d0cc3"
      },
      "execution_count": null,
      "outputs": [
        {
          "output_type": "stream",
          "name": "stdout",
          "text": [
            "This is \n",
            " Python Language.\n"
          ]
        }
      ]
    },
    {
      "cell_type": "markdown",
      "source": [
        "Important Escape characters in strings are as follows:\n",
        "\n",
        "\n",
        "1.   \\ - New Line continuation\n",
        "2.   \\\\\\ - Display a single \\\n",
        "3.   \\\\' - Display a single quote\n",
        "4.   \\\\\" - Display a double quote\n",
        "5.   \\b - backspace\n",
        "6.   \\r - Enter\n",
        "7.   \\t - Horizontal tab space\n",
        "8.   \\v - Vertical tab\n",
        "9.   \\n - New line\n",
        "\n"
      ],
      "metadata": {
        "id": "_b0GdXX0fEJg"
      }
    },
    {
      "cell_type": "markdown",
      "source": [
        "## Determining the Datatype and Character of a Variable"
      ],
      "metadata": {
        "id": "Y9DpR6QOggss"
      }
    },
    {
      "cell_type": "code",
      "source": [
        "a = 15\n",
        "print(type(a))"
      ],
      "metadata": {
        "id": "9yYsRE3BNtdw",
        "colab": {
          "base_uri": "https://localhost:8080/"
        },
        "outputId": "f46cdfbc-0ed5-412f-e854-58f05444bb65"
      },
      "execution_count": null,
      "outputs": [
        {
          "output_type": "stream",
          "name": "stdout",
          "text": [
            "<class 'int'>\n"
          ]
        }
      ]
    },
    {
      "cell_type": "code",
      "source": [
        "a = 15.5\n",
        "print(type(a))"
      ],
      "metadata": {
        "colab": {
          "base_uri": "https://localhost:8080/"
        },
        "id": "VOgVtxC7gubT",
        "outputId": "55b79a50-88d0-49a8-cc54-72911097c5fe"
      },
      "execution_count": null,
      "outputs": [
        {
          "output_type": "stream",
          "name": "stdout",
          "text": [
            "<class 'float'>\n"
          ]
        }
      ]
    },
    {
      "cell_type": "code",
      "source": [
        "s = 'Hello'\n",
        "print(type(s))"
      ],
      "metadata": {
        "colab": {
          "base_uri": "https://localhost:8080/"
        },
        "id": "PO99rcHYgxMi",
        "outputId": "6587637b-6c1b-490c-a1bf-2efb6d54fe49"
      },
      "execution_count": null,
      "outputs": [
        {
          "output_type": "stream",
          "name": "stdout",
          "text": [
            "<class 'str'>\n"
          ]
        }
      ]
    },
    {
      "cell_type": "code",
      "source": [
        "lst = [1,2,3,4,5]\n",
        "print(type(lst))"
      ],
      "metadata": {
        "colab": {
          "base_uri": "https://localhost:8080/"
        },
        "id": "Bclm06O7g2qW",
        "outputId": "e45e5152-9857-40b7-98ef-d7de30930e3b"
      },
      "execution_count": null,
      "outputs": [
        {
          "output_type": "stream",
          "name": "stdout",
          "text": [
            "<class 'list'>\n"
          ]
        }
      ]
    },
    {
      "cell_type": "code",
      "source": [
        "t = (1,2,3,4,5)\n",
        "print(type(t))"
      ],
      "metadata": {
        "colab": {
          "base_uri": "https://localhost:8080/"
        },
        "id": "3VxSa6Wyg8LB",
        "outputId": "eb0ad09b-d2a4-4c7f-dbf8-0a3b78ab9720"
      },
      "execution_count": null,
      "outputs": [
        {
          "output_type": "stream",
          "name": "stdout",
          "text": [
            "<class 'tuple'>\n"
          ]
        }
      ]
    },
    {
      "cell_type": "code",
      "source": [
        "s = {1,2,3,4,5}\n",
        "print(type(s))"
      ],
      "metadata": {
        "colab": {
          "base_uri": "https://localhost:8080/"
        },
        "id": "Xll_mIHjg-2U",
        "outputId": "4f767120-15a2-4741-ede0-400ef73dd7f3"
      },
      "execution_count": null,
      "outputs": [
        {
          "output_type": "stream",
          "name": "stdout",
          "text": [
            "<class 'set'>\n"
          ]
        }
      ]
    },
    {
      "cell_type": "markdown",
      "source": [
        "Remember that in Python, we don't have any char datatype to represent individual characters. It is represented in the form of strings."
      ],
      "metadata": {
        "id": "CedYmdVThFUZ"
      }
    },
    {
      "cell_type": "code",
      "source": [
        "ch = 'A'\n",
        "print(type(ch))"
      ],
      "metadata": {
        "colab": {
          "base_uri": "https://localhost:8080/"
        },
        "id": "5jS7wi_ohBRY",
        "outputId": "054c6a85-5f8b-4fc6-d4b3-59c418a9534f"
      },
      "execution_count": null,
      "outputs": [
        {
          "output_type": "stream",
          "name": "stdout",
          "text": [
            "<class 'str'>\n"
          ]
        }
      ]
    },
    {
      "cell_type": "code",
      "source": [
        "str = \"India\"\n",
        "print(str[0])"
      ],
      "metadata": {
        "colab": {
          "base_uri": "https://localhost:8080/"
        },
        "id": "eKmN5-yMhWmr",
        "outputId": "a1416db8-db20-46d3-ba09-f10243d6124e"
      },
      "execution_count": null,
      "outputs": [
        {
          "output_type": "stream",
          "name": "stdout",
          "text": [
            "I\n"
          ]
        }
      ]
    },
    {
      "cell_type": "code",
      "source": [
        "for i in str:\n",
        "  print(i)"
      ],
      "metadata": {
        "colab": {
          "base_uri": "https://localhost:8080/"
        },
        "id": "385txUhxhdYR",
        "outputId": "eeae6c10-3e36-41fe-985d-8e5c39727e0b"
      },
      "execution_count": null,
      "outputs": [
        {
          "output_type": "stream",
          "name": "stdout",
          "text": [
            "I\n",
            "n\n",
            "d\n",
            "i\n",
            "a\n"
          ]
        }
      ]
    },
    {
      "cell_type": "code",
      "source": [
        "# isupper() method test whether a string is uppercase or lowercase. It returns True or False value.\n",
        "# It is true if the string is uppercase or else it is False\n",
        "print(str[0].isupper())"
      ],
      "metadata": {
        "colab": {
          "base_uri": "https://localhost:8080/"
        },
        "id": "YE0Wc0jehlD6",
        "outputId": "5c82cff2-609e-4883-d6cc-658b2c57d8f7"
      },
      "execution_count": null,
      "outputs": [
        {
          "output_type": "stream",
          "name": "stdout",
          "text": [
            "True\n"
          ]
        }
      ]
    },
    {
      "cell_type": "code",
      "source": [
        "str[1].isupper()"
      ],
      "metadata": {
        "colab": {
          "base_uri": "https://localhost:8080/"
        },
        "id": "OlxYcJyBh8QK",
        "outputId": "a83cc59a-96bd-443a-a587-7e89ee9f30fd"
      },
      "execution_count": null,
      "outputs": [
        {
          "output_type": "execute_result",
          "data": {
            "text/plain": [
              "False"
            ]
          },
          "metadata": {},
          "execution_count": 14
        }
      ]
    },
    {
      "cell_type": "code",
      "source": [
        "# Similarly, islower() is used to check whether the given string is in lower case or not.\n",
        "str[1].islower()"
      ],
      "metadata": {
        "colab": {
          "base_uri": "https://localhost:8080/"
        },
        "id": "EcnHUY-ciDv7",
        "outputId": "d1065c22-ecbb-4cb2-e2cc-fcfd1602802c"
      },
      "execution_count": null,
      "outputs": [
        {
          "output_type": "execute_result",
          "data": {
            "text/plain": [
              "True"
            ]
          },
          "metadata": {},
          "execution_count": 15
        }
      ]
    },
    {
      "cell_type": "markdown",
      "source": [
        "## User Defined Datatypes\n",
        "\n",
        "\n",
        "*   Datatypes which are created by the programmers are called 'user-defined' datatypes.\n",
        "*   An array, a class or a module is user-defined datatypes.\n",
        "\n"
      ],
      "metadata": {
        "id": "AuDMXyAqiZsd"
      }
    },
    {
      "cell_type": "markdown",
      "source": [
        "### Constants in Python\n",
        "\n",
        "A constant is similar to a variable but its value cant be modified or changed in the course of program execution.\n",
        "\n",
        "A programmer can indicate a variable as constant by writing its name in all capital letters.\n",
        "\n",
        "For example : MAX_VALUE is a constant."
      ],
      "metadata": {
        "id": "sO4XWQh4jAGG"
      }
    },
    {
      "cell_type": "markdown",
      "source": [
        "### Identifiers and Reserved Words\n",
        "\n",
        "*   An identifier is name that is given to a variable or function or class, etc.\n",
        "*   It can include letters, numbers and underscore character (_).\n",
        "*   Symbols like ?, #, $, % and @ are not allowed in identifiers.\n",
        "*   Python is a case sensitive programming language. That means 'a' and 'A' are considered as different variables.\n",
        "\n"
      ],
      "metadata": {
        "id": "tWoM3L8gkCAy"
      }
    },
    {
      "cell_type": "code",
      "source": [
        "import keyword\n",
        "\n",
        "# Get the list of reserved words\n",
        "reserved_words = keyword.kwlist\n",
        "\n",
        "# Print the list\n",
        "print(reserved_words)"
      ],
      "metadata": {
        "colab": {
          "base_uri": "https://localhost:8080/"
        },
        "id": "DqIEPvEgiOOf",
        "outputId": "2deb94e9-f342-4cd9-b765-e1ca67ce1743"
      },
      "execution_count": null,
      "outputs": [
        {
          "output_type": "stream",
          "name": "stdout",
          "text": [
            "['False', 'None', 'True', 'and', 'as', 'assert', 'async', 'await', 'break', 'class', 'continue', 'def', 'del', 'elif', 'else', 'except', 'finally', 'for', 'from', 'global', 'if', 'import', 'in', 'is', 'lambda', 'nonlocal', 'not', 'or', 'pass', 'raise', 'return', 'try', 'while', 'with', 'yield']\n"
          ]
        }
      ]
    },
    {
      "cell_type": "markdown",
      "source": [
        "## Naming Conventions in Python\n",
        "\n",
        "*   **Packages**: It should be written in all lower case letters. It should be separated by underscore (_).\n",
        "\n",
        "*   **Modules**: It should be written in all lower case letters and should be separated by underscore (_).\n",
        "\n",
        "*   **Classes**: For user-defined class, it should start with capital letters whereas for built-in class names should all be in lower case.\n",
        "\n",
        "*   **Global variables or Module-level variables**: It should be all in lower case letters and should be separated by underscore(_).\n",
        "\n",
        "*   **Functions**: All should be in lower case and separated by underscore(_).\n",
        "\n",
        "*   **Methods**: All should be in lower case and separated by underscore(_).\n",
        "\n",
        "*  **Method arguments**: For instance methods, the first argument name should be 'self' and in case of class methods, their first argument should be 'cls'.\n",
        "\n",
        "*  **Constants**: All should be in capital case and separated by underscore(_).\n",
        "\n",
        "*   **Non-accessible entities**: Some variables, functions and methods are not accessible outside and they should be used as they are in the program.\n",
        "\n",
        "\n",
        "\n",
        "\n",
        "\n"
      ],
      "metadata": {
        "id": "iAcqcvrmlFLq"
      }
    }
  ]
}