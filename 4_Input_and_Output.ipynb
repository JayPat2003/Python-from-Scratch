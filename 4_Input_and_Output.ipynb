{
  "nbformat": 4,
  "nbformat_minor": 0,
  "metadata": {
    "colab": {
      "provenance": [],
      "authorship_tag": "ABX9TyNt2g+qNmj+0PL9yu7Cih3h",
      "include_colab_link": true
    },
    "kernelspec": {
      "name": "python3",
      "display_name": "Python 3"
    },
    "language_info": {
      "name": "python"
    }
  },
  "cells": [
    {
      "cell_type": "markdown",
      "metadata": {
        "id": "view-in-github",
        "colab_type": "text"
      },
      "source": [
        "<a href=\"https://colab.research.google.com/github/JayPat2003/Python-from-Scratch/blob/main/4_Input_and_Output.ipynb\" target=\"_parent\"><img src=\"https://colab.research.google.com/assets/colab-badge.svg\" alt=\"Open In Colab\"/></a>"
      ]
    },
    {
      "cell_type": "markdown",
      "source": [
        "\n",
        "\n",
        "*   The purpose of the data is to process athe data and return the results.\n",
        "*   The data given to the computer is called *input*.\n",
        "*   The results returned by the computer are called *output*.\n",
        "*   So, computers basically takes iput, processes the following input and produces the output.\n",
        "\n"
      ],
      "metadata": {
        "id": "Pf6LeFQxYcS5"
      }
    },
    {
      "cell_type": "markdown",
      "source": [
        "# Output statements\n",
        "\n",
        "To display the output or results, Python provides the **print()** function."
      ],
      "metadata": {
        "id": "wSo-YJOkaaNr"
      }
    },
    {
      "cell_type": "markdown",
      "source": [
        "## *The print(\"string\") Statement*"
      ],
      "metadata": {
        "id": "v2RLbOLPa8wt"
      }
    },
    {
      "cell_type": "code",
      "execution_count": null,
      "metadata": {
        "id": "SJKClIO25TxI",
        "colab": {
          "base_uri": "https://localhost:8080/"
        },
        "outputId": "0acc813e-f4e2-4c8a-c98b-1de974602696"
      },
      "outputs": [
        {
          "output_type": "stream",
          "name": "stdout",
          "text": [
            "Hello World\n"
          ]
        }
      ],
      "source": [
        "print(\"Hello World\")"
      ]
    },
    {
      "cell_type": "code",
      "source": [
        "\n",
        "print(\"Hello\")\n",
        "print(\"Jay\")"
      ],
      "metadata": {
        "colab": {
          "base_uri": "https://localhost:8080/"
        },
        "id": "eeB8c0CMd-ti",
        "outputId": "37a20a2b-3608-41c2-e6e6-9643982ac2f5"
      },
      "execution_count": null,
      "outputs": [
        {
          "output_type": "stream",
          "name": "stdout",
          "text": [
            "Hello\n",
            "Jay\n"
          ]
        }
      ]
    },
    {
      "cell_type": "code",
      "source": [
        "print(\"This is the \\n first line\")"
      ],
      "metadata": {
        "colab": {
          "base_uri": "https://localhost:8080/"
        },
        "id": "3g1Ulchjb3wW",
        "outputId": "0eccb84e-0563-4963-f932-9f2ab8ec7f45"
      },
      "execution_count": null,
      "outputs": [
        {
          "output_type": "stream",
          "name": "stdout",
          "text": [
            "This is the \n",
            " first line\n"
          ]
        }
      ]
    },
    {
      "cell_type": "code",
      "source": [
        "print(\"This is the \\t first line\")"
      ],
      "metadata": {
        "colab": {
          "base_uri": "https://localhost:8080/"
        },
        "id": "kHrjF9tBcAK-",
        "outputId": "38c29b39-1259-47ed-8822-3a3cbc3e47cc"
      },
      "execution_count": null,
      "outputs": [
        {
          "output_type": "stream",
          "name": "stdout",
          "text": [
            "This is the \t first line\n"
          ]
        }
      ]
    },
    {
      "cell_type": "code",
      "source": [
        "# to show \\n as output we would write \\\\n\n",
        "print(\"This is the \\\\n first line\")"
      ],
      "metadata": {
        "colab": {
          "base_uri": "https://localhost:8080/"
        },
        "id": "Ck2RlKzXcJoy",
        "outputId": "be308cf2-878d-4246-b093-0a485df6642d"
      },
      "execution_count": null,
      "outputs": [
        {
          "output_type": "stream",
          "name": "stdout",
          "text": [
            "This is the \\n first line\n"
          ]
        }
      ]
    },
    {
      "cell_type": "code",
      "source": [
        "print(3 * 'Hi')"
      ],
      "metadata": {
        "colab": {
          "base_uri": "https://localhost:8080/"
        },
        "id": "Y-3zqcVaOcOk",
        "outputId": "18200a44-7277-4e6b-866a-f50fcbbe7d1a"
      },
      "execution_count": null,
      "outputs": [
        {
          "output_type": "stream",
          "name": "stdout",
          "text": [
            "HiHiHi\n"
          ]
        }
      ]
    },
    {
      "cell_type": "code",
      "source": [
        "# in strings, + is used to join 2 strings and this is called concatenation\n",
        "print(\"City name = \" + \"Hyderabad\")"
      ],
      "metadata": {
        "colab": {
          "base_uri": "https://localhost:8080/"
        },
        "id": "Lwy_6J5MOqKW",
        "outputId": "97bec387-ae5b-4092-9633-45d0c8a736a5"
      },
      "execution_count": null,
      "outputs": [
        {
          "output_type": "stream",
          "name": "stdout",
          "text": [
            "City name = Hyderabad\n"
          ]
        }
      ]
    },
    {
      "cell_type": "code",
      "source": [
        "# we can separate the statement using ',' too\n",
        "print(\"Hello\",\"Jayesh\",\"Pattamatta\")"
      ],
      "metadata": {
        "colab": {
          "base_uri": "https://localhost:8080/"
        },
        "id": "GKU2shsUeL9z",
        "outputId": "c993e43a-0721-490c-afcd-97ab6fd9a81a"
      },
      "execution_count": null,
      "outputs": [
        {
          "output_type": "stream",
          "name": "stdout",
          "text": [
            "Hello Jayesh Pattamatta\n"
          ]
        }
      ]
    },
    {
      "cell_type": "markdown",
      "source": [
        "## *The print(variables list) Statement*"
      ],
      "metadata": {
        "id": "dBdzEFLTzWbi"
      }
    },
    {
      "cell_type": "code",
      "source": [
        "a, b = 2, 4\n",
        "print(a)\n",
        "\n",
        "print(a,b)"
      ],
      "metadata": {
        "colab": {
          "base_uri": "https://localhost:8080/"
        },
        "id": "a9NDbcCAwLmx",
        "outputId": "d7d6a69a-024a-4e03-e3a0-ba49e645a40c"
      },
      "execution_count": null,
      "outputs": [
        {
          "output_type": "stream",
          "name": "stdout",
          "text": [
            "2\n",
            "2 4\n"
          ]
        }
      ]
    },
    {
      "cell_type": "code",
      "source": [
        "# we can use sep attribute which is used to seperate the values in the output.\n",
        "print(a, b, sep = ',')\n",
        "\n",
        "print(a, b, sep=':')\n",
        "\n",
        "print(a,b,sep='---')"
      ],
      "metadata": {
        "colab": {
          "base_uri": "https://localhost:8080/"
        },
        "id": "BnoMGALFwmOi",
        "outputId": "c8f6b356-3fd6-4c2e-a14d-8df0348c2f77"
      },
      "execution_count": null,
      "outputs": [
        {
          "output_type": "stream",
          "name": "stdout",
          "text": [
            "2,4\n",
            "2:4\n",
            "2---4\n"
          ]
        }
      ]
    },
    {
      "cell_type": "code",
      "source": [
        "print(\"Hello\",\"Jayesh\",\"Pattamatta\", sep=\"---\")"
      ],
      "metadata": {
        "colab": {
          "base_uri": "https://localhost:8080/"
        },
        "id": "ETpyriDweUXa",
        "outputId": "40687da7-6282-476b-f131-45226ea5f1e3"
      },
      "execution_count": null,
      "outputs": [
        {
          "output_type": "stream",
          "name": "stdout",
          "text": [
            "Hello---Jayesh---Pattamatta\n"
          ]
        }
      ]
    },
    {
      "cell_type": "code",
      "source": [
        "print('I watched movie named \"Kalki\" and it was very good.')\n",
        "print(\"It is a 'Mythological Sci-Fi' movie.\")"
      ],
      "metadata": {
        "id": "5NEqEUj9e20Y",
        "colab": {
          "base_uri": "https://localhost:8080/"
        },
        "outputId": "8e592ba0-2d8c-4b9d-c065-5dbe11fb3373"
      },
      "execution_count": null,
      "outputs": [
        {
          "output_type": "stream",
          "name": "stdout",
          "text": [
            "I watched movie named \"Kalki\" and it was very good.\n",
            "It is a 'Mythological Sci-Fi' movie.\n"
          ]
        }
      ]
    },
    {
      "cell_type": "code",
      "source": [
        "print(\"Hello\", end=\" \")\n",
        "print(\"Jay\")"
      ],
      "metadata": {
        "colab": {
          "base_uri": "https://localhost:8080/"
        },
        "id": "ZJUPKaUxeG8V",
        "outputId": "16d47763-5db5-49fc-e07d-4120ba1d39a6"
      },
      "execution_count": null,
      "outputs": [
        {
          "output_type": "stream",
          "name": "stdout",
          "text": [
            "Hello Jay\n"
          ]
        }
      ]
    },
    {
      "cell_type": "code",
      "source": [
        "print(\"Hello\", end=\"\\t\")\n",
        "print(\"Dear\", end='\\t')\n",
        "print(\"How are you?\", end='\\t')"
      ],
      "metadata": {
        "colab": {
          "base_uri": "https://localhost:8080/"
        },
        "id": "YD6VJ6sLzmQR",
        "outputId": "b315c2fe-d1ed-45fb-92e9-83a8c8304f80"
      },
      "execution_count": null,
      "outputs": [
        {
          "output_type": "stream",
          "name": "stdout",
          "text": [
            "Hello\tDear\tHow are you?\t"
          ]
        }
      ]
    },
    {
      "cell_type": "code",
      "source": [
        "print(\"Welcome to the RBR course\",\"This is Jayesh Pattamatta\", sep=\"++\", end=\"***\")\n",
        "print(\"Checkout to this course\")\n",
        "print(\"It is python programming.\")"
      ],
      "metadata": {
        "colab": {
          "base_uri": "https://localhost:8080/"
        },
        "id": "gepFmn2gefZU",
        "outputId": "1e9f53ef-dcef-4c1b-a38f-749a43b08733"
      },
      "execution_count": null,
      "outputs": [
        {
          "output_type": "stream",
          "name": "stdout",
          "text": [
            "Welcome to the RBR course++This is Jayesh Pattamatta***Checkout to this course\n",
            "It is python programming.\n"
          ]
        }
      ]
    },
    {
      "cell_type": "markdown",
      "source": [
        "## *print(object) statement*\n",
        "\n",
        "We can pass objects like tuples, lists or dictionaries to the print() function."
      ],
      "metadata": {
        "id": "NHJr2l_URgNS"
      }
    },
    {
      "cell_type": "code",
      "source": [
        "list = [12,\"B\",'Jay']\n",
        "print(list)"
      ],
      "metadata": {
        "id": "WcUnIeEAi7C_",
        "colab": {
          "base_uri": "https://localhost:8080/"
        },
        "outputId": "a82e305b-0434-4c54-81e6-b9364854a041"
      },
      "execution_count": null,
      "outputs": [
        {
          "output_type": "stream",
          "name": "stdout",
          "text": [
            "[12, 'B', 'Jay']\n"
          ]
        }
      ]
    },
    {
      "cell_type": "code",
      "source": [
        "dict = {'Wada' : 40, 'Dosa': 60, 'Idli': 30}\n",
        "print(dict)"
      ],
      "metadata": {
        "colab": {
          "base_uri": "https://localhost:8080/"
        },
        "id": "Q_qJ9RR4RynF",
        "outputId": "f49818d9-81b3-4944-a4d4-9db0194137d3"
      },
      "execution_count": null,
      "outputs": [
        {
          "output_type": "stream",
          "name": "stdout",
          "text": [
            "{'Wada': 40, 'Dosa': 60, 'Idli': 30}\n"
          ]
        }
      ]
    },
    {
      "cell_type": "markdown",
      "source": [
        "## *print(\"string\", variables list) statements*"
      ],
      "metadata": {
        "id": "p3uFcjB_SVYa"
      }
    },
    {
      "cell_type": "code",
      "source": [
        "a = 3\n",
        "print(a, \"is an odd number\")"
      ],
      "metadata": {
        "colab": {
          "base_uri": "https://localhost:8080/"
        },
        "id": "pyyndhflR_N-",
        "outputId": "7fc47f13-c1b2-4f7f-95c0-51425574ee32"
      },
      "execution_count": null,
      "outputs": [
        {
          "output_type": "stream",
          "name": "stdout",
          "text": [
            "3 is an odd number\n"
          ]
        }
      ]
    },
    {
      "cell_type": "code",
      "source": [
        "print('You have typed', a, 'as an the input')"
      ],
      "metadata": {
        "colab": {
          "base_uri": "https://localhost:8080/"
        },
        "id": "EwWOhVLiSnwQ",
        "outputId": "9e6a7512-1e81-4eed-80f7-41c57fe52875"
      },
      "execution_count": null,
      "outputs": [
        {
          "output_type": "stream",
          "name": "stdout",
          "text": [
            "You have typed 3 as an the input\n"
          ]
        }
      ]
    },
    {
      "cell_type": "markdown",
      "source": [
        "## *print(formatted string) statement*\n",
        "\n",
        "We can use % operator to join a string with a variable or value in the format:\n",
        "\n",
        "\n",
        "```\n",
        "print(\"formatted string\" % (variables list))\n",
        "```\n",
        "\n",
        "*   In the \"formatted string\", we can use %i or %d to represent decimal integer numbers\n",
        "*   %f to represent the float values.\n",
        "*   %s to represent the strings.\n",
        "\n"
      ],
      "metadata": {
        "id": "pPuVpXqLSzqf"
      }
    },
    {
      "cell_type": "code",
      "source": [
        "x = 19\n",
        "print('value = %i' % x)"
      ],
      "metadata": {
        "colab": {
          "base_uri": "https://localhost:8080/"
        },
        "id": "SXF1oBQ0SuDG",
        "outputId": "4c2e5081-e59a-48d3-abc5-72586d8c38a3"
      },
      "execution_count": null,
      "outputs": [
        {
          "output_type": "stream",
          "name": "stdout",
          "text": [
            "value = 19\n"
          ]
        }
      ]
    },
    {
      "cell_type": "code",
      "source": [
        "name = 'Jayesh'\n",
        "print('Hi %s' % name)"
      ],
      "metadata": {
        "colab": {
          "base_uri": "https://localhost:8080/"
        },
        "id": "1i-Q_60-WHel",
        "outputId": "4a1e0157-e538-4695-c8d3-c0e2d2b53ebf"
      },
      "execution_count": null,
      "outputs": [
        {
          "output_type": "stream",
          "name": "stdout",
          "text": [
            "Hi Jayesh\n"
          ]
        }
      ]
    },
    {
      "cell_type": "code",
      "source": [
        "print('Hi (%20s)' % name)"
      ],
      "metadata": {
        "colab": {
          "base_uri": "https://localhost:8080/"
        },
        "id": "mx2c8mpwZbZp",
        "outputId": "c68aee1d-81dd-4454-e3b5-17809dc26000"
      },
      "execution_count": null,
      "outputs": [
        {
          "output_type": "stream",
          "name": "stdout",
          "text": [
            "Hi (              Jayesh)\n"
          ]
        }
      ]
    },
    {
      "cell_type": "code",
      "source": [
        "print('Hi (%-20s)' % name)"
      ],
      "metadata": {
        "colab": {
          "base_uri": "https://localhost:8080/"
        },
        "id": "mfhPJyLgZkds",
        "outputId": "08345b84-6e5d-4bc2-e55e-1cf579ce8988"
      },
      "execution_count": null,
      "outputs": [
        {
          "output_type": "stream",
          "name": "stdout",
          "text": [
            "Hi (Jayesh              )\n"
          ]
        }
      ]
    },
    {
      "cell_type": "code",
      "source": [
        "# we use %c to display a single character\n",
        "name = 'Jayesh'\n",
        "print('Hi %c, %c' % (name[0], name[1]))\n"
      ],
      "metadata": {
        "colab": {
          "base_uri": "https://localhost:8080/"
        },
        "id": "QeFVZvflZsaX",
        "outputId": "85377f2b-01bd-4f29-8dc9-ed8ab4152746"
      },
      "execution_count": null,
      "outputs": [
        {
          "output_type": "stream",
          "name": "stdout",
          "text": [
            "Hi J, a\n"
          ]
        }
      ]
    },
    {
      "cell_type": "code",
      "source": [
        "print(\"Hi %s\" % (name[0:2]))"
      ],
      "metadata": {
        "colab": {
          "base_uri": "https://localhost:8080/"
        },
        "id": "bw-kuOrZZ-7f",
        "outputId": "a6c0dfa6-01c3-4267-9c5c-e4f06c0e93a5"
      },
      "execution_count": null,
      "outputs": [
        {
          "output_type": "stream",
          "name": "stdout",
          "text": [
            "Hi Ja\n"
          ]
        }
      ]
    },
    {
      "cell_type": "code",
      "source": [
        "num = 142.394039\n",
        "print('The value of num is %f' % num)"
      ],
      "metadata": {
        "colab": {
          "base_uri": "https://localhost:8080/"
        },
        "id": "ryf2VEl0aLBK",
        "outputId": "b1ee2851-4d2f-4eea-b6e3-f3d07c096342"
      },
      "execution_count": null,
      "outputs": [
        {
          "output_type": "stream",
          "name": "stdout",
          "text": [
            "The value of num is 142.394039\n"
          ]
        }
      ]
    },
    {
      "cell_type": "code",
      "source": [
        "print('the value is: %8.2f' % num) # 8 spaces and 2 fractional digits"
      ],
      "metadata": {
        "colab": {
          "base_uri": "https://localhost:8080/"
        },
        "id": "4d5khP2-ek3n",
        "outputId": "752eee83-4ad0-441b-a2d9-0bc28b6abf89"
      },
      "execution_count": null,
      "outputs": [
        {
          "output_type": "stream",
          "name": "stdout",
          "text": [
            "the value is:   142.39\n"
          ]
        }
      ]
    },
    {
      "cell_type": "code",
      "source": [
        "print('The value is: %.2f' % num)"
      ],
      "metadata": {
        "colab": {
          "base_uri": "https://localhost:8080/"
        },
        "id": "h6lodxDaesw5",
        "outputId": "718ada8d-5bde-4e4b-d4e3-43cc31c32a78"
      },
      "execution_count": null,
      "outputs": [
        {
          "output_type": "stream",
          "name": "stdout",
          "text": [
            "The value is: 142.39\n"
          ]
        }
      ]
    },
    {
      "cell_type": "code",
      "source": [
        "# using format() method\n",
        "name, salary = 'Jayesh', 50000\n",
        "print('Hi {}, your salary is {}.'.format(name, salary))"
      ],
      "metadata": {
        "id": "58nw_ZvNfBAO",
        "colab": {
          "base_uri": "https://localhost:8080/"
        },
        "outputId": "7c1a524c-6798-4883-9a80-3f34a79a73c7"
      },
      "execution_count": null,
      "outputs": [
        {
          "output_type": "stream",
          "name": "stdout",
          "text": [
            "Hi Jayesh, your salary is 50000.\n"
          ]
        }
      ]
    },
    {
      "cell_type": "code",
      "source": [
        "print('Hello {n}, your salary is {s}'.format(n=name, s=salary))"
      ],
      "metadata": {
        "colab": {
          "base_uri": "https://localhost:8080/"
        },
        "id": "BFWjzqso8yYd",
        "outputId": "f444852e-4d5d-4b57-ba18-d8066c52654e"
      },
      "execution_count": null,
      "outputs": [
        {
          "output_type": "stream",
          "name": "stdout",
          "text": [
            "Hello Jayesh, your salary is 50000\n"
          ]
        }
      ]
    },
    {
      "cell_type": "code",
      "source": [
        "print('Hello {:s}, your salary is {:.2f}'.format(name, salary))"
      ],
      "metadata": {
        "colab": {
          "base_uri": "https://localhost:8080/"
        },
        "id": "AlLis5vB9BlS",
        "outputId": "b3bdcdc7-42ab-40ee-f062-ce4ddb174158"
      },
      "execution_count": null,
      "outputs": [
        {
          "output_type": "stream",
          "name": "stdout",
          "text": [
            "Hello Jayesh, your salary is 50000.00\n"
          ]
        }
      ]
    },
    {
      "cell_type": "code",
      "source": [
        "print('Hello %s, your salary is %.2f' % (name, salary))"
      ],
      "metadata": {
        "colab": {
          "base_uri": "https://localhost:8080/"
        },
        "id": "nXAy3G4A9Lg5",
        "outputId": "5846d56e-4242-4917-da62-c4026962123d"
      },
      "execution_count": null,
      "outputs": [
        {
          "output_type": "stream",
          "name": "stdout",
          "text": [
            "Hello Jayesh, your salary is 50000.00\n"
          ]
        }
      ]
    },
    {
      "cell_type": "markdown",
      "source": [
        "# Input Statmenets\n",
        "\n",
        "In Python, we use the input() function. This takes the value from the keyboard and returns it as a string."
      ],
      "metadata": {
        "id": "eHdcdxty9dAx"
      }
    },
    {
      "cell_type": "code",
      "source": [
        "str = input()"
      ],
      "metadata": {
        "colab": {
          "base_uri": "https://localhost:8080/"
        },
        "id": "2R837GUb9Vga",
        "outputId": "9f24ebae-9c8c-4a7b-e361-20c2e839da3d"
      },
      "execution_count": null,
      "outputs": [
        {
          "name": "stdout",
          "output_type": "stream",
          "text": [
            "Jay\n"
          ]
        }
      ]
    },
    {
      "cell_type": "code",
      "source": [
        "print(str)"
      ],
      "metadata": {
        "colab": {
          "base_uri": "https://localhost:8080/"
        },
        "id": "oMPcJn9T-D7B",
        "outputId": "4474d023-bc86-4f39-bec8-58494f24aa64"
      },
      "execution_count": null,
      "outputs": [
        {
          "output_type": "stream",
          "name": "stdout",
          "text": [
            "Jay\n"
          ]
        }
      ]
    },
    {
      "cell_type": "code",
      "source": [
        "# good practice to write a message so that users know that they have to inputs\n",
        "str = input(\"Enter your name: \")\n",
        "print('Your name is', str, '. Very nice to meet you !')"
      ],
      "metadata": {
        "colab": {
          "base_uri": "https://localhost:8080/"
        },
        "id": "djh5laa2-L2D",
        "outputId": "6d141d97-7bb0-4ecf-bed7-3150bee7279f"
      },
      "execution_count": null,
      "outputs": [
        {
          "output_type": "stream",
          "name": "stdout",
          "text": [
            "Enter your name: Jayesh\n",
            "Your name is Jayesh . Very nice to meet you !\n"
          ]
        }
      ]
    },
    {
      "cell_type": "code",
      "source": [
        "str = input('Enter a number: ')\n",
        "x = int(str)\n",
        "print(x)"
      ],
      "metadata": {
        "colab": {
          "base_uri": "https://localhost:8080/"
        },
        "id": "wzfdUqrV-gkp",
        "outputId": "8fe5328a-9604-403d-b38f-89a1d857fb49"
      },
      "execution_count": null,
      "outputs": [
        {
          "output_type": "stream",
          "name": "stdout",
          "text": [
            "Enter a number: 24\n",
            "24\n"
          ]
        }
      ]
    },
    {
      "cell_type": "code",
      "source": [
        "# alternate way of writing the similar thing is\n",
        "x = int(input('Enter a number: '))\n",
        "print(x)"
      ],
      "metadata": {
        "colab": {
          "base_uri": "https://localhost:8080/"
        },
        "id": "OJOJE3Gk-0N4",
        "outputId": "bbf6cbe9-b6ad-4486-d786-5e1c50a4ad71"
      },
      "execution_count": null,
      "outputs": [
        {
          "output_type": "stream",
          "name": "stdout",
          "text": [
            "Enter a number: 94\n",
            "94\n"
          ]
        }
      ]
    },
    {
      "cell_type": "code",
      "source": [
        "# we can use float to get the decimal values too\n",
        "x = float(input('Enter a number: '))\n",
        "print(x)"
      ],
      "metadata": {
        "colab": {
          "base_uri": "https://localhost:8080/"
        },
        "id": "SOECuwdl-8QS",
        "outputId": "73276df2-78e8-4408-ccdc-cd714e006527"
      },
      "execution_count": null,
      "outputs": [
        {
          "output_type": "stream",
          "name": "stdout",
          "text": [
            "Enter a number: 98.076\n",
            "98.076\n"
          ]
        }
      ]
    },
    {
      "cell_type": "markdown",
      "source": [
        "**Problem: Write a Python program to accept a string from keyboard and display it.**"
      ],
      "metadata": {
        "id": "XziykmJi_dEd"
      }
    },
    {
      "cell_type": "code",
      "source": [
        "# accepting a string from keyboard\n",
        "str = input('Enter a string: ')\n",
        "print('You entered: ', str)"
      ],
      "metadata": {
        "colab": {
          "base_uri": "https://localhost:8080/"
        },
        "id": "8fGqw5df_Nq1",
        "outputId": "2513658b-0e91-47f3-9b38-9960ef1f351b"
      },
      "execution_count": null,
      "outputs": [
        {
          "output_type": "stream",
          "name": "stdout",
          "text": [
            "Enter a string: Namaste\n",
            "You enetered:  Namaste\n"
          ]
        }
      ]
    },
    {
      "cell_type": "markdown",
      "source": [
        "**Problem: A Python program to accept a character as a string.**"
      ],
      "metadata": {
        "id": "Db6qXVyA_3Zh"
      }
    },
    {
      "cell_type": "code",
      "source": [
        "# accepting a single character or string from keyboard\n",
        "ch = input('Enter a character: ')\n",
        "print('You entered: ' +ch)"
      ],
      "metadata": {
        "colab": {
          "base_uri": "https://localhost:8080/"
        },
        "id": "mOR4yK8d_tK6",
        "outputId": "8d21f249-bbfe-4746-b404-3f29915a1c38"
      },
      "execution_count": null,
      "outputs": [
        {
          "output_type": "stream",
          "name": "stdout",
          "text": [
            "Enter a character: B\n",
            "You entered: B\n"
          ]
        }
      ]
    },
    {
      "cell_type": "code",
      "source": [
        "ch = input('Enter a character: ')\n",
        "print('You entered: ' +ch[0])"
      ],
      "metadata": {
        "colab": {
          "base_uri": "https://localhost:8080/"
        },
        "id": "Oo9taOAtAFHd",
        "outputId": "07214d18-55d0-408c-cc07-605fe312ba8c"
      },
      "execution_count": null,
      "outputs": [
        {
          "output_type": "stream",
          "name": "stdout",
          "text": [
            "Enter a character: Jayant\n",
            "You entered: J\n"
          ]
        }
      ]
    },
    {
      "cell_type": "markdown",
      "source": [
        "**Problem : A Python Program to accept an integer number from keyboard**"
      ],
      "metadata": {
        "id": "8Hp7mBrBXSos"
      }
    },
    {
      "cell_type": "code",
      "source": [
        "str = input('Enter a number: ')\n",
        "x = int(str)\n",
        "print('You entered : ',x)"
      ],
      "metadata": {
        "colab": {
          "base_uri": "https://localhost:8080/"
        },
        "id": "HfwOI-fkXM1Q",
        "outputId": "38998a9d-2d80-47bc-99a9-ef61e36f473d"
      },
      "execution_count": null,
      "outputs": [
        {
          "output_type": "stream",
          "name": "stdout",
          "text": [
            "Enter a number: 22\n",
            "You entered :  22\n"
          ]
        }
      ]
    },
    {
      "cell_type": "code",
      "source": [
        "# alterate way of writing the code can be\n",
        "x = int(input('Enter a number: '))\n",
        "print('You entered : ',x)"
      ],
      "metadata": {
        "colab": {
          "base_uri": "https://localhost:8080/"
        },
        "id": "ZtMwGPvdXiLK",
        "outputId": "2c87592c-774f-4fc8-c988-eee72c69111f"
      },
      "execution_count": null,
      "outputs": [
        {
          "output_type": "stream",
          "name": "stdout",
          "text": [
            "Enter a number: 11\n",
            "You entered :  11\n"
          ]
        }
      ]
    },
    {
      "cell_type": "markdown",
      "source": [
        "**Problem : A Python Program to accept a float from the keyboard**"
      ],
      "metadata": {
        "id": "Rw_u9122Xzsu"
      }
    },
    {
      "cell_type": "code",
      "source": [
        "x = float(input('Enter a number: '))\n",
        "print('You entered : ',x)"
      ],
      "metadata": {
        "colab": {
          "base_uri": "https://localhost:8080/"
        },
        "id": "qrmgI4TaXsb-",
        "outputId": "9294f661-a906-4129-8fae-c36a43583bb3"
      },
      "execution_count": null,
      "outputs": [
        {
          "output_type": "stream",
          "name": "stdout",
          "text": [
            "Enter a number: 3.2\n",
            "You entered :  3.2\n"
          ]
        }
      ]
    },
    {
      "cell_type": "markdown",
      "source": [
        "**Problem : A Python Program to accept 2 integers form the keyboard**"
      ],
      "metadata": {
        "id": "38Bb56t3YGVO"
      }
    },
    {
      "cell_type": "code",
      "source": [
        "x = int(input('Enter a number: '))\n",
        "y = int(input('Enter another number: '))\n",
        "print('You entered :', x, y)"
      ],
      "metadata": {
        "colab": {
          "base_uri": "https://localhost:8080/"
        },
        "id": "mNJNwGsmYBay",
        "outputId": "326a7c70-f4f8-4307-f8f1-afbec390fa06"
      },
      "execution_count": null,
      "outputs": [
        {
          "output_type": "stream",
          "name": "stdout",
          "text": [
            "Enter a number: 2\n",
            "Enter another number: 3\n",
            "You entered : 2 3\n"
          ]
        }
      ]
    },
    {
      "cell_type": "markdown",
      "source": [
        "**Problem : Write a python program where we accept 2 numbers from the user and display the sum of it.**"
      ],
      "metadata": {
        "id": "qH7HMMWGY020"
      }
    },
    {
      "cell_type": "code",
      "source": [
        "x = int(input())\n",
        "y = int(input())\n",
        "sum = x + y\n",
        "print('The sum of {} and {} is {}'.format(x, y, sum))"
      ],
      "metadata": {
        "colab": {
          "base_uri": "https://localhost:8080/"
        },
        "id": "GoX1mUSpYVt-",
        "outputId": "4123acb9-cd42-4839-b85b-c7395b2224fd"
      },
      "execution_count": null,
      "outputs": [
        {
          "output_type": "stream",
          "name": "stdout",
          "text": [
            "2\n",
            "7\n",
            "The sum of 2 and 7 is 9\n"
          ]
        }
      ]
    },
    {
      "cell_type": "code",
      "source": [
        "#alternate way of writing it can be\n",
        "x = int(input())\n",
        "y = int(input())\n",
        "sum = x + y\n",
        "print('the sum of', x , 'and', y, 'is :', sum)"
      ],
      "metadata": {
        "colab": {
          "base_uri": "https://localhost:8080/"
        },
        "id": "5DvJXAtMZPNj",
        "outputId": "00a43724-bc49-43db-c5af-83ed34b015b1"
      },
      "execution_count": null,
      "outputs": [
        {
          "output_type": "stream",
          "name": "stdout",
          "text": [
            "2\n",
            "6\n",
            "the sum of 2 and 6 is : 8\n"
          ]
        }
      ]
    },
    {
      "cell_type": "markdown",
      "source": [
        "## Multiple String inputs\n",
        "\n",
        "We've seen how to use the input() function to take input multiple times, accepting one value per line. However, sometimes you need to accept multiple inputs in a single line. To do this, you can use the split() function.\n",
        "\n",
        "For example, if the user inputs the following:\n",
        "\n",
        "```\n",
        "Good Great Awesome\n",
        "```\n",
        "You can read these inputs like this:\n",
        "\n",
        "```\n",
        "a, b, c = input().split()\n",
        "```\n",
        "The split() function breaks this single line of input into multiple parts. By default, split() divides the input based on spaces, so each word separated by a space is treated as an independent input and stored in different variables.\n",
        "\n"
      ],
      "metadata": {
        "id": "-D45A9YPaMMy"
      }
    },
    {
      "cell_type": "code",
      "source": [
        "a, b, c, d = input(\"Enter four values separated by spaces: \").split()\n",
        "print(d, c, b, a)"
      ],
      "metadata": {
        "colab": {
          "base_uri": "https://localhost:8080/"
        },
        "id": "HoyQWhXtZjHg",
        "outputId": "ae7d60b7-345b-4797-d34e-b5215e6e487f"
      },
      "execution_count": null,
      "outputs": [
        {
          "output_type": "stream",
          "name": "stdout",
          "text": [
            "Enter four values separated by spaces: Air Water Fire Earth\n",
            "Earth Fire Water Air\n"
          ]
        }
      ]
    },
    {
      "cell_type": "markdown",
      "source": [
        "## Multiple integer inputs\n",
        "\n",
        "The syntax you saw in the previous lesson takes string inputs. But if you need to take multiple integer inputs, you'll have to convert them separately.\n",
        "\n",
        "You cannot call the int function directly on the split input as int function can only be called on one value as a time and split input has multiple values.\n",
        "\n",
        "To handle this, you can use the map function to convert the split inputs to integers in one step. Here's how you can do it:\n",
        "\n",
        "\n",
        "```\n",
        "a, b, c = map(int, input().split())   # assigns integer input values to variables a, b and c\n",
        "```\n",
        "What map does is, it takes the list of multiple inputs and applies the integer function to each input in the list.\n",
        "\n"
      ],
      "metadata": {
        "id": "76tRN1Xsb1kf"
      }
    },
    {
      "cell_type": "markdown",
      "source": [
        "**Problem : We are given 3 integer inputs *a, b, c* in the 1st line and on the 2nd line integer inputs *d, e*. We should print the sum of all input variables.**"
      ],
      "metadata": {
        "id": "8wY8ryqPcE0V"
      }
    },
    {
      "cell_type": "code",
      "source": [
        "print('Give any 3 numbers separated by spaces:')\n",
        "a, b, c = map(int, input().split())\n",
        "\n",
        "print('Give any next 2 numbers separated by spaces:')\n",
        "d, e = map(int, input().split())\n",
        "\n",
        "print('The Sum of all numbers is:', a+b+c+d+e)"
      ],
      "metadata": {
        "colab": {
          "base_uri": "https://localhost:8080/"
        },
        "id": "pwqqkoAua569",
        "outputId": "32e0fd31-ce37-41cb-a96d-f2475e1982bf"
      },
      "execution_count": null,
      "outputs": [
        {
          "output_type": "stream",
          "name": "stdout",
          "text": [
            "Give any 3 numbers separated by spaces:\n",
            "76 56 90\n",
            "Give any next 2 numbers separated by spaces:\n",
            "4 66\n",
            "The Sum of all numbers is: 292\n"
          ]
        }
      ]
    },
    {
      "cell_type": "markdown",
      "source": [
        "The eval() function takes a string and evaluates the result of the string by taking it as a Python expression."
      ],
      "metadata": {
        "id": "1zP_4Kc4jXn3"
      }
    },
    {
      "cell_type": "code",
      "source": [
        "a, b = 5, 10\n",
        "result = eval('a + b')\n",
        "print(result)"
      ],
      "metadata": {
        "colab": {
          "base_uri": "https://localhost:8080/"
        },
        "id": "IvQMhXhBcwwn",
        "outputId": "26f7438e-8553-481c-8d52-0d54f5d9a5f5"
      },
      "execution_count": null,
      "outputs": [
        {
          "output_type": "stream",
          "name": "stdout",
          "text": [
            "15\n"
          ]
        }
      ]
    },
    {
      "cell_type": "code",
      "source": [
        "x = eval(input('Enter an expression: '))\n",
        "print(\"Result = %d\" % x)"
      ],
      "metadata": {
        "colab": {
          "base_uri": "https://localhost:8080/"
        },
        "id": "oBjQZrH0jnHt",
        "outputId": "c3c57cd8-86ea-4091-b213-ed77d35d5b65"
      },
      "execution_count": null,
      "outputs": [
        {
          "output_type": "stream",
          "name": "stdout",
          "text": [
            "Enter an expression: 10 + 5 - 4\n",
            "Result = 11\n"
          ]
        }
      ]
    }
  ]
}