{
  "nbformat": 4,
  "nbformat_minor": 0,
  "metadata": {
    "colab": {
      "provenance": [],
      "authorship_tag": "ABX9TyMn1zxDSTEfw8Ed6Y6emC7p",
      "include_colab_link": true
    },
    "kernelspec": {
      "name": "python3",
      "display_name": "Python 3"
    },
    "language_info": {
      "name": "python"
    }
  },
  "cells": [
    {
      "cell_type": "markdown",
      "metadata": {
        "id": "view-in-github",
        "colab_type": "text"
      },
      "source": [
        "<a href=\"https://colab.research.google.com/github/JayPat2003/Python-from-Scratch/blob/main/1_Variables.ipynb\" target=\"_parent\"><img src=\"https://colab.research.google.com/assets/colab-badge.svg\" alt=\"Open In Colab\"/></a>"
      ]
    },
    {
      "cell_type": "markdown",
      "source": [
        "# **Variables**"
      ],
      "metadata": {
        "id": "wXHrY9cmfy1u"
      }
    },
    {
      "cell_type": "markdown",
      "source": [
        "*   Python Variables are containers that store values.So, it can be imagined liek a memory location where we can store the data.\n",
        "*   Python is not \"statically typed\".\n",
        "* We do not need to declare the variables before using them or declare their type.\n",
        "* A variable is created the moment we first assign a value to it.\n",
        "* The name given to a variable is called *identifier*.\n",
        "* Identifiers represent names of variables, functions, objects or any such thing.\n",
        "\n"
      ],
      "metadata": {
        "id": "spQBMYgrD5lh"
      }
    },
    {
      "cell_type": "markdown",
      "source": [
        "## Rules for Python Variables\n",
        "\n",
        "* A Python variable name must start with a letter or the underscipe character.\n",
        "* A Python variable name cannot start with a number.\n",
        "* A Python Variable name can only contain alpha-numeric characters and underscores (A-z, 0-9 and _).\n",
        "* Variable in Python names are case-sensitive (name,Name and NAME are 3 different variables).\n",
        "* The reserved words (Keywords) in Python can't be used to name the variable in Python."
      ],
      "metadata": {
        "id": "ktbVLAgGExeM"
      }
    },
    {
      "cell_type": "markdown",
      "source": [
        "## How Python sees Variables?"
      ],
      "metadata": {
        "id": "WCjjAxtIgo6Z"
      }
    },
    {
      "cell_type": "markdown",
      "source": [
        "\n",
        "\n",
        "*   In Python, a variable is seen as a tag(or name) that is tied to some value. For example:\n",
        "\n",
        "\n",
        "```\n",
        "a = 1\n",
        "```\n",
        "\n",
        "\n",
        "*   Here it means that the value '1' is created first in memory and then a tag by the name 'a' is created to show that value.\n",
        "* Python considers the values as 'objects'. If we change the value of 'a' to a new value as:\n",
        "\n",
        "\n",
        "```\n",
        "a = 2\n",
        "```\n",
        "* The tag is simply changed to the new value (or object). Since, the value '1' becomes unreferenced object, it is removed by garbage collector.\n",
        "\n",
        "\n"
      ],
      "metadata": {
        "id": "eAUio72kg3G2"
      }
    },
    {
      "cell_type": "code",
      "source": [
        "import keyword\n",
        "print(keyword.kwlist)"
      ],
      "metadata": {
        "colab": {
          "base_uri": "https://localhost:8080/"
        },
        "id": "JknkGuzIacdl",
        "outputId": "98966d2e-254c-4c85-b9d3-d1a8528dd7e8"
      },
      "execution_count": null,
      "outputs": [
        {
          "output_type": "stream",
          "name": "stdout",
          "text": [
            "['False', 'None', 'True', 'and', 'as', 'assert', 'async', 'await', 'break', 'class', 'continue', 'def', 'del', 'elif', 'else', 'except', 'finally', 'for', 'from', 'global', 'if', 'import', 'in', 'is', 'lambda', 'nonlocal', 'not', 'or', 'pass', 'raise', 'return', 'try', 'while', 'with', 'yield']\n"
          ]
        }
      ]
    },
    {
      "cell_type": "code",
      "source": [
        "len(keyword.kwlist)"
      ],
      "metadata": {
        "colab": {
          "base_uri": "https://localhost:8080/"
        },
        "id": "h9aXdoOLaq2J",
        "outputId": "7a2ed4aa-df5b-4450-bd09-bae91f2fbbc7"
      },
      "execution_count": null,
      "outputs": [
        {
          "output_type": "execute_result",
          "data": {
            "text/plain": [
              "35"
            ]
          },
          "metadata": {},
          "execution_count": 2
        }
      ]
    },
    {
      "cell_type": "code",
      "execution_count": null,
      "metadata": {
        "colab": {
          "base_uri": "https://localhost:8080/"
        },
        "id": "I41mlsyDfvYH",
        "outputId": "0151fc52-ed76-45c7-9f0b-ba61100d4cb1"
      },
      "outputs": [
        {
          "output_type": "execute_result",
          "data": {
            "text/plain": [
              "11"
            ]
          },
          "metadata": {},
          "execution_count": 1
        }
      ],
      "source": [
        "2+9"
      ]
    },
    {
      "cell_type": "code",
      "source": [
        "a=8\n",
        "b=6\n",
        "print(a+b)"
      ],
      "metadata": {
        "colab": {
          "base_uri": "https://localhost:8080/"
        },
        "id": "A3J4oEAlf8Wr",
        "outputId": "1b68c61e-aa37-41db-c0bd-2b4bcc3e3a97"
      },
      "execution_count": null,
      "outputs": [
        {
          "output_type": "stream",
          "name": "stdout",
          "text": [
            "14\n"
          ]
        }
      ]
    },
    {
      "cell_type": "code",
      "source": [
        "c = a*b\n",
        "id(c) #It foes to this specific memory id and gets the number inside c"
      ],
      "metadata": {
        "colab": {
          "base_uri": "https://localhost:8080/"
        },
        "id": "Vlwwb-2chJ8m",
        "outputId": "70bcf0c8-e270-42b5-b467-5fc93a923ea5"
      },
      "execution_count": null,
      "outputs": [
        {
          "output_type": "execute_result",
          "data": {
            "text/plain": [
              "138015494670032"
            ]
          },
          "metadata": {},
          "execution_count": 5
        }
      ]
    },
    {
      "cell_type": "code",
      "source": [
        "type(c)"
      ],
      "metadata": {
        "colab": {
          "base_uri": "https://localhost:8080/"
        },
        "id": "B5vkYV23hbHM",
        "outputId": "223ce384-3e0f-4cd7-fa95-e4e0f33e71c4"
      },
      "execution_count": null,
      "outputs": [
        {
          "output_type": "execute_result",
          "data": {
            "text/plain": [
              "int"
            ]
          },
          "metadata": {},
          "execution_count": 6
        }
      ]
    },
    {
      "cell_type": "code",
      "source": [
        "d = a*b\n",
        "id(d)\n",
        "# We can see that the memory id of variable c and d are same"
      ],
      "metadata": {
        "colab": {
          "base_uri": "https://localhost:8080/"
        },
        "id": "D3-ekWagh3mj",
        "outputId": "999fed00-e3da-4bf6-9114-d58fb8ec8a84"
      },
      "execution_count": null,
      "outputs": [
        {
          "output_type": "execute_result",
          "data": {
            "text/plain": [
              "138015494670032"
            ]
          },
          "metadata": {},
          "execution_count": 9
        }
      ]
    },
    {
      "cell_type": "code",
      "source": [
        "x = 100\n",
        "y = 100\n",
        "print(id(x))\n",
        "print(id(y))\n",
        "print(\"After changing the value of x\")\n",
        "x = x + 50\n",
        "print(x)\n",
        "print(id(x))\n",
        "print(id(y))"
      ],
      "metadata": {
        "colab": {
          "base_uri": "https://localhost:8080/"
        },
        "id": "j1zBpwp5iGJO",
        "outputId": "42f0c415-cc24-44de-8fbc-49def810471a"
      },
      "execution_count": null,
      "outputs": [
        {
          "output_type": "stream",
          "name": "stdout",
          "text": [
            "138015494671696\n",
            "138015494671696\n",
            "After changing the value of x\n",
            "150\n",
            "138015494673296\n",
            "138015494671696\n"
          ]
        }
      ]
    },
    {
      "cell_type": "code",
      "source": [
        "a = 34\n",
        "b = 2\n",
        "print(a/b)\n",
        "print(type(a/b))\n",
        "print(a//b)\n",
        "print(type(a//b))\n",
        "\n",
        "print(id(a/b))\n",
        "print(id(a//b))"
      ],
      "metadata": {
        "id": "uUbeqYIEBgXx",
        "colab": {
          "base_uri": "https://localhost:8080/"
        },
        "outputId": "a15b9eff-d43c-46e3-fabb-879a48fa1a87"
      },
      "execution_count": null,
      "outputs": [
        {
          "output_type": "stream",
          "name": "stdout",
          "text": [
            "17.0\n",
            "<class 'float'>\n",
            "17\n",
            "<class 'int'>\n",
            "134563046534544\n",
            "134564326392560\n"
          ]
        }
      ]
    },
    {
      "cell_type": "code",
      "source": [
        "print(bin(a)) # Gives the binary integer of a"
      ],
      "metadata": {
        "colab": {
          "base_uri": "https://localhost:8080/"
        },
        "id": "CROUFXwRptLn",
        "outputId": "df71fb30-022d-4788-c427-366ad7f91492"
      },
      "execution_count": null,
      "outputs": [
        {
          "output_type": "stream",
          "name": "stdout",
          "text": [
            "0b100010\n"
          ]
        }
      ]
    },
    {
      "cell_type": "markdown",
      "source": [
        "**Remember**: When both the integers are greater than 256 and even though they are exactly same number but the IDs will be different."
      ],
      "metadata": {
        "id": "ccHS3Ty7ihwt"
      }
    },
    {
      "cell_type": "code",
      "source": [
        "a = 260\n",
        "b = 260\n",
        "print(id(a))\n",
        "print(id(b))"
      ],
      "metadata": {
        "id": "neSb3ufCroUE",
        "colab": {
          "base_uri": "https://localhost:8080/"
        },
        "outputId": "1698f2ad-0084-4bf4-e52e-7f5f02b4bb2a"
      },
      "execution_count": null,
      "outputs": [
        {
          "output_type": "stream",
          "name": "stdout",
          "text": [
            "135169117678320\n",
            "135169117678192\n"
          ]
        }
      ]
    },
    {
      "cell_type": "code",
      "source": [],
      "metadata": {
        "id": "MO8_J68ai8w7"
      },
      "execution_count": null,
      "outputs": []
    }
  ]
}